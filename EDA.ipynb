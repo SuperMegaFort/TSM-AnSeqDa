{
 "cells": [
  {
   "cell_type": "markdown",
   "metadata": {},
   "source": [
    "# Cyril's Dataset "
   ]
  },
  {
   "cell_type": "code",
   "execution_count": 2,
   "metadata": {},
   "outputs": [],
   "source": [
    "import pandas as pd\n",
    "import numpy as np\n",
    "import matplotlib.pyplot as plt\n",
    "import plotly.express as px"
   ]
  },
  {
   "cell_type": "code",
   "execution_count": 3,
   "metadata": {},
   "outputs": [
    {
     "data": {
      "text/html": [
       "<div>\n",
       "<style scoped>\n",
       "    .dataframe tbody tr th:only-of-type {\n",
       "        vertical-align: middle;\n",
       "    }\n",
       "\n",
       "    .dataframe tbody tr th {\n",
       "        vertical-align: top;\n",
       "    }\n",
       "\n",
       "    .dataframe thead th {\n",
       "        text-align: right;\n",
       "    }\n",
       "</style>\n",
       "<table border=\"1\" class=\"dataframe\">\n",
       "  <thead>\n",
       "    <tr style=\"text-align: right;\">\n",
       "      <th></th>\n",
       "      <th>Annee</th>\n",
       "      <th>PermNonPermPop_CD</th>\n",
       "      <th>PermNonPermPop</th>\n",
       "      <th>GroupeEtrangers_CD</th>\n",
       "      <th>GroupeEtrangers</th>\n",
       "      <th>Autorisation_CD</th>\n",
       "      <th>Autorisation</th>\n",
       "      <th>GroupeAge_CD</th>\n",
       "      <th>GroupeAge</th>\n",
       "      <th>DureeSejour_CD</th>\n",
       "      <th>...</th>\n",
       "      <th>Sexe</th>\n",
       "      <th>CantonHabitation_CD</th>\n",
       "      <th>CantonHabitation</th>\n",
       "      <th>Nation_CD</th>\n",
       "      <th>Nation</th>\n",
       "      <th>Continent_CD</th>\n",
       "      <th>Continent</th>\n",
       "      <th>EuropeEtatsTiers_CD</th>\n",
       "      <th>EuropeEtatsTiers</th>\n",
       "      <th>NombrePersonnes</th>\n",
       "    </tr>\n",
       "  </thead>\n",
       "  <tbody>\n",
       "    <tr>\n",
       "      <th>0</th>\n",
       "      <td>2023</td>\n",
       "      <td>1</td>\n",
       "      <td>Population permanente étrangère</td>\n",
       "      <td>1</td>\n",
       "      <td>Permis de courte durée (L) &gt;= 12 mois</td>\n",
       "      <td>1</td>\n",
       "      <td>Autorisation UE/AELE</td>\n",
       "      <td>1</td>\n",
       "      <td>00 - 05 ans</td>\n",
       "      <td>1</td>\n",
       "      <td>...</td>\n",
       "      <td>Hommes</td>\n",
       "      <td>1</td>\n",
       "      <td>Zurich</td>\n",
       "      <td>236</td>\n",
       "      <td>Espagne</td>\n",
       "      <td>1</td>\n",
       "      <td>Europe</td>\n",
       "      <td>1</td>\n",
       "      <td>UE</td>\n",
       "      <td>1</td>\n",
       "    </tr>\n",
       "    <tr>\n",
       "      <th>1</th>\n",
       "      <td>2023</td>\n",
       "      <td>1</td>\n",
       "      <td>Population permanente étrangère</td>\n",
       "      <td>1</td>\n",
       "      <td>Permis de courte durée (L) &gt;= 12 mois</td>\n",
       "      <td>1</td>\n",
       "      <td>Autorisation UE/AELE</td>\n",
       "      <td>1</td>\n",
       "      <td>00 - 05 ans</td>\n",
       "      <td>1</td>\n",
       "      <td>...</td>\n",
       "      <td>Hommes</td>\n",
       "      <td>2</td>\n",
       "      <td>Berne</td>\n",
       "      <td>204</td>\n",
       "      <td>Belgique</td>\n",
       "      <td>1</td>\n",
       "      <td>Europe</td>\n",
       "      <td>1</td>\n",
       "      <td>UE</td>\n",
       "      <td>1</td>\n",
       "    </tr>\n",
       "    <tr>\n",
       "      <th>2</th>\n",
       "      <td>2023</td>\n",
       "      <td>1</td>\n",
       "      <td>Population permanente étrangère</td>\n",
       "      <td>1</td>\n",
       "      <td>Permis de courte durée (L) &gt;= 12 mois</td>\n",
       "      <td>1</td>\n",
       "      <td>Autorisation UE/AELE</td>\n",
       "      <td>1</td>\n",
       "      <td>00 - 05 ans</td>\n",
       "      <td>1</td>\n",
       "      <td>...</td>\n",
       "      <td>Hommes</td>\n",
       "      <td>2</td>\n",
       "      <td>Berne</td>\n",
       "      <td>206</td>\n",
       "      <td>Danemark</td>\n",
       "      <td>1</td>\n",
       "      <td>Europe</td>\n",
       "      <td>1</td>\n",
       "      <td>UE</td>\n",
       "      <td>1</td>\n",
       "    </tr>\n",
       "    <tr>\n",
       "      <th>3</th>\n",
       "      <td>2023</td>\n",
       "      <td>1</td>\n",
       "      <td>Population permanente étrangère</td>\n",
       "      <td>1</td>\n",
       "      <td>Permis de courte durée (L) &gt;= 12 mois</td>\n",
       "      <td>1</td>\n",
       "      <td>Autorisation UE/AELE</td>\n",
       "      <td>1</td>\n",
       "      <td>00 - 05 ans</td>\n",
       "      <td>1</td>\n",
       "      <td>...</td>\n",
       "      <td>Hommes</td>\n",
       "      <td>2</td>\n",
       "      <td>Berne</td>\n",
       "      <td>218</td>\n",
       "      <td>Italie</td>\n",
       "      <td>1</td>\n",
       "      <td>Europe</td>\n",
       "      <td>1</td>\n",
       "      <td>UE</td>\n",
       "      <td>3</td>\n",
       "    </tr>\n",
       "    <tr>\n",
       "      <th>4</th>\n",
       "      <td>2023</td>\n",
       "      <td>1</td>\n",
       "      <td>Population permanente étrangère</td>\n",
       "      <td>1</td>\n",
       "      <td>Permis de courte durée (L) &gt;= 12 mois</td>\n",
       "      <td>1</td>\n",
       "      <td>Autorisation UE/AELE</td>\n",
       "      <td>1</td>\n",
       "      <td>00 - 05 ans</td>\n",
       "      <td>1</td>\n",
       "      <td>...</td>\n",
       "      <td>Hommes</td>\n",
       "      <td>2</td>\n",
       "      <td>Berne</td>\n",
       "      <td>232</td>\n",
       "      <td>Roumanie</td>\n",
       "      <td>1</td>\n",
       "      <td>Europe</td>\n",
       "      <td>1</td>\n",
       "      <td>UE</td>\n",
       "      <td>1</td>\n",
       "    </tr>\n",
       "  </tbody>\n",
       "</table>\n",
       "<p>5 rows × 22 columns</p>\n",
       "</div>"
      ],
      "text/plain": [
       "   Annee  PermNonPermPop_CD                   PermNonPermPop  \\\n",
       "0   2023                  1  Population permanente étrangère   \n",
       "1   2023                  1  Population permanente étrangère   \n",
       "2   2023                  1  Population permanente étrangère   \n",
       "3   2023                  1  Population permanente étrangère   \n",
       "4   2023                  1  Population permanente étrangère   \n",
       "\n",
       "   GroupeEtrangers_CD                        GroupeEtrangers  Autorisation_CD  \\\n",
       "0                   1  Permis de courte durée (L) >= 12 mois                1   \n",
       "1                   1  Permis de courte durée (L) >= 12 mois                1   \n",
       "2                   1  Permis de courte durée (L) >= 12 mois                1   \n",
       "3                   1  Permis de courte durée (L) >= 12 mois                1   \n",
       "4                   1  Permis de courte durée (L) >= 12 mois                1   \n",
       "\n",
       "           Autorisation  GroupeAge_CD    GroupeAge  DureeSejour_CD  ...  \\\n",
       "0  Autorisation UE/AELE             1  00 - 05 ans               1  ...   \n",
       "1  Autorisation UE/AELE             1  00 - 05 ans               1  ...   \n",
       "2  Autorisation UE/AELE             1  00 - 05 ans               1  ...   \n",
       "3  Autorisation UE/AELE             1  00 - 05 ans               1  ...   \n",
       "4  Autorisation UE/AELE             1  00 - 05 ans               1  ...   \n",
       "\n",
       "     Sexe  CantonHabitation_CD CantonHabitation  Nation_CD    Nation  \\\n",
       "0  Hommes                    1           Zurich        236   Espagne   \n",
       "1  Hommes                    2            Berne        204  Belgique   \n",
       "2  Hommes                    2            Berne        206  Danemark   \n",
       "3  Hommes                    2            Berne        218    Italie   \n",
       "4  Hommes                    2            Berne        232  Roumanie   \n",
       "\n",
       "   Continent_CD Continent  EuropeEtatsTiers_CD EuropeEtatsTiers  \\\n",
       "0             1    Europe                    1               UE   \n",
       "1             1    Europe                    1               UE   \n",
       "2             1    Europe                    1               UE   \n",
       "3             1    Europe                    1               UE   \n",
       "4             1    Europe                    1               UE   \n",
       "\n",
       "   NombrePersonnes  \n",
       "0                1  \n",
       "1                1  \n",
       "2                1  \n",
       "3                3  \n",
       "4                1  \n",
       "\n",
       "[5 rows x 22 columns]"
      ]
     },
     "execution_count": 3,
     "metadata": {},
     "output_type": "execute_result"
    }
   ],
   "source": [
    "df = pd.read_csv('data.csv', sep=';')\n",
    "df.head()"
   ]
  },
  {
   "cell_type": "code",
   "execution_count": 4,
   "metadata": {},
   "outputs": [
    {
     "data": {
      "text/plain": [
       "Annee\n",
       "2020    88574\n",
       "2021    91397\n",
       "2022    93908\n",
       "2023    96672\n",
       "Name: NombrePersonnes, dtype: int64"
      ]
     },
     "execution_count": 4,
     "metadata": {},
     "output_type": "execute_result"
    }
   ],
   "source": [
    "yearly_immigration = df.groupby('Annee')['NombrePersonnes'].count()\n",
    "yearly_immigration"
   ]
  },
  {
   "cell_type": "code",
   "execution_count": 5,
   "metadata": {},
   "outputs": [
    {
     "data": {
      "image/png": "[encoded data removed]",
      "text/plain": [
       "<Figure size 1000x500 with 1 Axes>"
      ]
     },
     "metadata": {},
     "output_type": "display_data"
    }
   ],
   "source": [
    "plt.figure(figsize=(10, 5))\n",
    "plt.plot(yearly_immigration.index, yearly_immigration.values)\n",
    "plt.title('Yearly Immigration to Switzerland')\n",
    "plt.xlabel('Year')\n",
    "plt.ylabel('Number of immigrants')\n",
    "plt.xticks(np.arange(2020, 2024, 1))\n",
    "plt.show()"
   ]
  },
  {
   "cell_type": "code",
   "execution_count": 6,
   "metadata": {},
   "outputs": [
    {
     "data": {
      "text/html": [
       "<div>\n",
       "<style scoped>\n",
       "    .dataframe tbody tr th:only-of-type {\n",
       "        vertical-align: middle;\n",
       "    }\n",
       "\n",
       "    .dataframe tbody tr th {\n",
       "        vertical-align: top;\n",
       "    }\n",
       "\n",
       "    .dataframe thead th {\n",
       "        text-align: right;\n",
       "    }\n",
       "</style>\n",
       "<table border=\"1\" class=\"dataframe\">\n",
       "  <thead>\n",
       "    <tr style=\"text-align: right;\">\n",
       "      <th>Nation</th>\n",
       "      <th>Afghanistan</th>\n",
       "      <th>Afrique du sud</th>\n",
       "      <th>Albanie</th>\n",
       "      <th>Algérie</th>\n",
       "      <th>Allemagne</th>\n",
       "      <th>Andorre</th>\n",
       "      <th>Angola</th>\n",
       "      <th>Antigua-et-Barbuda</th>\n",
       "      <th>Apatride</th>\n",
       "      <th>Arabie saoudite</th>\n",
       "      <th>...</th>\n",
       "      <th>Yémen</th>\n",
       "      <th>Zambie</th>\n",
       "      <th>Zimbabwe</th>\n",
       "      <th>Égypte</th>\n",
       "      <th>Émirats arabes unis</th>\n",
       "      <th>Équateur</th>\n",
       "      <th>Érythrée</th>\n",
       "      <th>État inconnu</th>\n",
       "      <th>États-unis d'Amérique</th>\n",
       "      <th>Éthiopie</th>\n",
       "    </tr>\n",
       "    <tr>\n",
       "      <th>Annee</th>\n",
       "      <th></th>\n",
       "      <th></th>\n",
       "      <th></th>\n",
       "      <th></th>\n",
       "      <th></th>\n",
       "      <th></th>\n",
       "      <th></th>\n",
       "      <th></th>\n",
       "      <th></th>\n",
       "      <th></th>\n",
       "      <th></th>\n",
       "      <th></th>\n",
       "      <th></th>\n",
       "      <th></th>\n",
       "      <th></th>\n",
       "      <th></th>\n",
       "      <th></th>\n",
       "      <th></th>\n",
       "      <th></th>\n",
       "      <th></th>\n",
       "      <th></th>\n",
       "    </tr>\n",
       "  </thead>\n",
       "  <tbody>\n",
       "    <tr>\n",
       "      <th>2020</th>\n",
       "      <td>817.0</td>\n",
       "      <td>605.0</td>\n",
       "      <td>602.0</td>\n",
       "      <td>670.0</td>\n",
       "      <td>2007.0</td>\n",
       "      <td>20.0</td>\n",
       "      <td>469.0</td>\n",
       "      <td>12.0</td>\n",
       "      <td>284.0</td>\n",
       "      <td>149.0</td>\n",
       "      <td>...</td>\n",
       "      <td>198.0</td>\n",
       "      <td>55.0</td>\n",
       "      <td>141.0</td>\n",
       "      <td>556.0</td>\n",
       "      <td>16.0</td>\n",
       "      <td>509.0</td>\n",
       "      <td>1120.0</td>\n",
       "      <td>379.0</td>\n",
       "      <td>1642.0</td>\n",
       "      <td>635.0</td>\n",
       "    </tr>\n",
       "    <tr>\n",
       "      <th>2021</th>\n",
       "      <td>871.0</td>\n",
       "      <td>593.0</td>\n",
       "      <td>631.0</td>\n",
       "      <td>672.0</td>\n",
       "      <td>2046.0</td>\n",
       "      <td>24.0</td>\n",
       "      <td>464.0</td>\n",
       "      <td>10.0</td>\n",
       "      <td>294.0</td>\n",
       "      <td>153.0</td>\n",
       "      <td>...</td>\n",
       "      <td>204.0</td>\n",
       "      <td>60.0</td>\n",
       "      <td>141.0</td>\n",
       "      <td>568.0</td>\n",
       "      <td>18.0</td>\n",
       "      <td>532.0</td>\n",
       "      <td>1160.0</td>\n",
       "      <td>393.0</td>\n",
       "      <td>1628.0</td>\n",
       "      <td>679.0</td>\n",
       "    </tr>\n",
       "    <tr>\n",
       "      <th>2022</th>\n",
       "      <td>973.0</td>\n",
       "      <td>613.0</td>\n",
       "      <td>650.0</td>\n",
       "      <td>700.0</td>\n",
       "      <td>2023.0</td>\n",
       "      <td>34.0</td>\n",
       "      <td>464.0</td>\n",
       "      <td>20.0</td>\n",
       "      <td>326.0</td>\n",
       "      <td>159.0</td>\n",
       "      <td>...</td>\n",
       "      <td>218.0</td>\n",
       "      <td>63.0</td>\n",
       "      <td>139.0</td>\n",
       "      <td>598.0</td>\n",
       "      <td>20.0</td>\n",
       "      <td>539.0</td>\n",
       "      <td>1216.0</td>\n",
       "      <td>391.0</td>\n",
       "      <td>1689.0</td>\n",
       "      <td>698.0</td>\n",
       "    </tr>\n",
       "    <tr>\n",
       "      <th>2023</th>\n",
       "      <td>1039.0</td>\n",
       "      <td>644.0</td>\n",
       "      <td>705.0</td>\n",
       "      <td>724.0</td>\n",
       "      <td>2060.0</td>\n",
       "      <td>41.0</td>\n",
       "      <td>473.0</td>\n",
       "      <td>23.0</td>\n",
       "      <td>384.0</td>\n",
       "      <td>164.0</td>\n",
       "      <td>...</td>\n",
       "      <td>231.0</td>\n",
       "      <td>61.0</td>\n",
       "      <td>146.0</td>\n",
       "      <td>595.0</td>\n",
       "      <td>27.0</td>\n",
       "      <td>546.0</td>\n",
       "      <td>1259.0</td>\n",
       "      <td>414.0</td>\n",
       "      <td>1733.0</td>\n",
       "      <td>733.0</td>\n",
       "    </tr>\n",
       "  </tbody>\n",
       "</table>\n",
       "<p>4 rows × 193 columns</p>\n",
       "</div>"
      ],
      "text/plain": [
       "Nation  Afghanistan  Afrique du sud  Albanie  Algérie  Allemagne  Andorre  \\\n",
       "Annee                                                                       \n",
       "2020          817.0           605.0    602.0    670.0     2007.0     20.0   \n",
       "2021          871.0           593.0    631.0    672.0     2046.0     24.0   \n",
       "2022          973.0           613.0    650.0    700.0     2023.0     34.0   \n",
       "2023         1039.0           644.0    705.0    724.0     2060.0     41.0   \n",
       "\n",
       "Nation  Angola  Antigua-et-Barbuda  Apatride  Arabie saoudite  ...  Yémen  \\\n",
       "Annee                                                          ...          \n",
       "2020     469.0                12.0     284.0            149.0  ...  198.0   \n",
       "2021     464.0                10.0     294.0            153.0  ...  204.0   \n",
       "2022     464.0                20.0     326.0            159.0  ...  218.0   \n",
       "2023     473.0                23.0     384.0            164.0  ...  231.0   \n",
       "\n",
       "Nation  Zambie  Zimbabwe  Égypte  Émirats arabes unis  Équateur  Érythrée  \\\n",
       "Annee                                                                       \n",
       "2020      55.0     141.0   556.0                 16.0     509.0    1120.0   \n",
       "2021      60.0     141.0   568.0                 18.0     532.0    1160.0   \n",
       "2022      63.0     139.0   598.0                 20.0     539.0    1216.0   \n",
       "2023      61.0     146.0   595.0                 27.0     546.0    1259.0   \n",
       "\n",
       "Nation  État inconnu  États-unis d'Amérique  Éthiopie  \n",
       "Annee                                                  \n",
       "2020           379.0                 1642.0     635.0  \n",
       "2021           393.0                 1628.0     679.0  \n",
       "2022           391.0                 1689.0     698.0  \n",
       "2023           414.0                 1733.0     733.0  \n",
       "\n",
       "[4 rows x 193 columns]"
      ]
     },
     "execution_count": 6,
     "metadata": {},
     "output_type": "execute_result"
    }
   ],
   "source": [
    "yearly_imm_by_country = df.groupby(['Annee', 'Nation'])['NombrePersonnes'].count().unstack()\n",
    "yearly_imm_by_country"
   ]
  },
  {
   "cell_type": "code",
   "execution_count": 7,
   "metadata": {},
   "outputs": [
    {
     "data": {
      "application/vnd.plotly.v1+json": {
       "config": {
        "plotlyServerURL": "https://plot.ly"
       },
       "data": [
        {
         "hovertemplate": "Nation=Afghanistan<br>Annee=%{x}<br>value=%{y}<extra></extra>",
         "legendgroup": "Afghanistan",
         "line": {
          "color": "#636efa",
          "dash": "solid"
         },
         "marker": {
          "symbol": "circle"
         },
         "mode": "lines",
         "name": "Afghanistan",
         "orientation": "v",
         "showlegend": true,
         "type": "scatter",
         "x": [
          2020,
          2021,
          2022,
          2023
         ],
         "xaxis": "x",
         "y": [
          817,
          871,
          973,
          1039
         ],
         "yaxis": "y"
        },
        {
         "hovertemplate": "Nation=Afrique du sud<br>Annee=%{x}<br>value=%{y}<extra></extra>",
         "legendgroup": "Afrique du sud",
         "line": {
          "color": "#EF553B",
          "dash": "solid"
         },
         "marker": {
          "symbol": "circle"
         },
         "mode": "lines",
         "name": "Afrique du sud",
         "orientation": "v",
         "showlegend": true,
         "type": "scatter",
         "x": [
          2020,
          2021,
          2022,
          2023
         ],
         "xaxis": "x",
         "y": [
          605,
          593,
          613,
          644
         ],
         "yaxis": "y"
        },
        {
         "hovertemplate": "Nation=Albanie<br>Annee=%{x}<br>value=%{y}<extra></extra>",
         "legendgroup": "Albanie",
         "line": {
          "color": "#00cc96",
          "dash": "solid"
         },
         "marker": {
          "symbol": "circle"
         },
         "mode": "lines",
         "name": "Albanie",
         "orientation": "v",
         "showlegend": true,
         "type": "scatter",
         "x": [
          2020,
          2021,
          2022,
          2023
         ],
         "xaxis": "x",
         "y": [
          602,
          631,
          650,
          705
         ],
         "yaxis": "y"
        },
        {
         "hovertemplate": "Nation=Algérie<br>Annee=%{x}<br>value=%{y}<extra></extra>",
         "legendgroup": "Algérie",
         "line": {
          "color": "#ab63fa",
          "dash": "solid"
         },
         "marker": {
          "symbol": "circle"
         },
         "mode": "lines",
         "name": "Algérie",
         "orientation": "v",
         "showlegend": true,
         "type": "scatter",
         "x": [
          2020,
          2021,
          2022,
          2023
         ],
         "xaxis": "x",
         "y": [
          670,
          672,
          700,
          724
         ],
         "yaxis": "y"
        },
        {
         "hovertemplate": "Nation=Allemagne<br>Annee=%{x}<br>value=%{y}<extra></extra>",
         "legendgroup": "Allemagne",
         "line": {
          "color": "#FFA15A",
          "dash": "solid"
         },
         "marker": {
          "symbol": "circle"
         },
         "mode": "lines",
         "name": "Allemagne",
         "orientation": "v",
         "showlegend": true,
         "type": "scatter",
         "x": [
          2020,
          2021,
          2022,
          2023
         ],
         "xaxis": "x",
         "y": [
          2007,
          2046,
          2023,
          2060
         ],
         "yaxis": "y"
        },
        {
         "hovertemplate": "Nation=Andorre<br>Annee=%{x}<br>value=%{y}<extra></extra>",
         "legendgroup": "Andorre",
         "line": {
          "color": "#19d3f3",
          "dash": "solid"
         },
         "marker": {
          "symbol": "circle"
         },
         "mode": "lines",
         "name": "Andorre",
         "orientation": "v",
         "showlegend": true,
         "type": "scatter",
         "x": [
          2020,
          2021,
          2022,
          2023
         ],
         "xaxis": "x",
         "y": [
          20,
          24,
          34,
          41
         ],
         "yaxis": "y"
        },
        {
         "hovertemplate": "Nation=Angola<br>Annee=%{x}<br>value=%{y}<extra></extra>",
         "legendgroup": "Angola",
         "line": {
          "color": "#FF6692",
          "dash": "solid"
         },
         "marker": {
          "symbol": "circle"
         },
         "mode": "lines",
         "name": "Angola",
         "orientation": "v",
         "showlegend": true,
         "type": "scatter",
         "x": [
          2020,
          2021,
          2022,
          2023
         ],
         "xaxis": "x",
         "y": [
          469,
          464,
          464,
          473
         ],
         "yaxis": "y"
        },
        {
         "hovertemplate": "Nation=Antigua-et-Barbuda<br>Annee=%{x}<br>value=%{y}<extra></extra>",
         "legendgroup": "Antigua-et-Barbuda",
         "line": {
          "color": "#B6E880",
          "dash": "solid"
         },
         "marker": {
          "symbol": "circle"
         },
         "mode": "lines",
         "name": "Antigua-et-Barbuda",
         "orientation": "v",
         "showlegend": true,
         "type": "scatter",
         "x": [
          2020,
          2021,
          2022,
          2023
         ],
         "xaxis": "x",
         "y": [
          12,
          10,
          20,
          23
         ],
         "yaxis": "y"
        },
        {
         "hovertemplate": "Nation=Apatride<br>Annee=%{x}<br>value=%{y}<extra></extra>",
         "legendgroup": "Apatride",
         "line": {
          "color": "#FF97FF",
          "dash": "solid"
         },
         "marker": {
          "symbol": "circle"
         },
         "mode": "lines",
         "name": "Apatride",
         "orientation": "v",
         "showlegend": true,
         "type": "scatter",
         "x": [
          2020,
          2021,
          2022,
          2023
         ],
         "xaxis": "x",
         "y": [
          284,
          294,
          326,
          384
         ],
         "yaxis": "y"
        },
        {
         "hovertemplate": "Nation=Arabie saoudite<br>Annee=%{x}<br>value=%{y}<extra></extra>",
         "legendgroup": "Arabie saoudite",
         "line": {
          "color": "#FECB52",
          "dash": "solid"
         },
         "marker": {
          "symbol": "circle"
         },
         "mode": "lines",
         "name": "Arabie saoudite",
         "orientation": "v",
         "showlegend": true,
         "type": "scatter",
         "x": [
          2020,
          2021,
          2022,
          2023
         ],
         "xaxis": "x",
         "y": [
          149,
          153,
          159,
          164
         ],
         "yaxis": "y"
        },
        {
         "hovertemplate": "Nation=Argentine<br>Annee=%{x}<br>value=%{y}<extra></extra>",
         "legendgroup": "Argentine",
         "line": {
          "color": "#636efa",
          "dash": "solid"
         },
         "marker": {
          "symbol": "circle"
         },
         "mode": "lines",
         "name": "Argentine",
         "orientation": "v",
         "showlegend": true,
         "type": "scatter",
         "x": [
          2020,
          2021,
          2022,
          2023
         ],
         "xaxis": "x",
         "y": [
          533,
          554,
          556,
          576
         ],
         "yaxis": "y"
        },
        {
         "hovertemplate": "Nation=Arménie<br>Annee=%{x}<br>value=%{y}<extra></extra>",
         "legendgroup": "Arménie",
         "line": {
          "color": "#EF553B",
          "dash": "solid"
         },
         "marker": {
          "symbol": "circle"
         },
         "mode": "lines",
         "name": "Arménie",
         "orientation": "v",
         "showlegend": true,
         "type": "scatter",
         "x": [
          2020,
          2021,
          2022,
          2023
         ],
         "xaxis": "x",
         "y": [
          266,
          282,
          288,
          329
         ],
         "yaxis": "y"
        },
        {
         "hovertemplate": "Nation=Australie<br>Annee=%{x}<br>value=%{y}<extra></extra>",
         "legendgroup": "Australie",
         "line": {
          "color": "#00cc96",
          "dash": "solid"
         },
         "marker": {
          "symbol": "circle"
         },
         "mode": "lines",
         "name": "Australie",
         "orientation": "v",
         "showlegend": true,
         "type": "scatter",
         "x": [
          2020,
          2021,
          2022,
          2023
         ],
         "xaxis": "x",
         "y": [
          726,
          728,
          759,
          772
         ],
         "yaxis": "y"
        },
        {
         "hovertemplate": "Nation=Autriche<br>Annee=%{x}<br>value=%{y}<extra></extra>",
         "legendgroup": "Autriche",
         "line": {
          "color": "#ab63fa",
          "dash": "solid"
         },
         "marker": {
          "symbol": "circle"
         },
         "mode": "lines",
         "name": "Autriche",
         "orientation": "v",
         "showlegend": true,
         "type": "scatter",
         "x": [
          2020,
          2021,
          2022,
          2023
         ],
         "xaxis": "x",
         "y": [
          1291,
          1303,
          1314,
          1308
         ],
         "yaxis": "y"
        },
        {
         "hovertemplate": "Nation=Azerbaïdjan<br>Annee=%{x}<br>value=%{y}<extra></extra>",
         "legendgroup": "Azerbaïdjan",
         "line": {
          "color": "#FFA15A",
          "dash": "solid"
         },
         "marker": {
          "symbol": "circle"
         },
         "mode": "lines",
         "name": "Azerbaïdjan",
         "orientation": "v",
         "showlegend": true,
         "type": "scatter",
         "x": [
          2020,
          2021,
          2022,
          2023
         ],
         "xaxis": "x",
         "y": [
          237,
          247,
          256,
          268
         ],
         "yaxis": "y"
        },
        {
         "hovertemplate": "Nation=Bahamas<br>Annee=%{x}<br>value=%{y}<extra></extra>",
         "legendgroup": "Bahamas",
         "line": {
          "color": "#19d3f3",
          "dash": "solid"
         },
         "marker": {
          "symbol": "circle"
         },
         "mode": "lines",
         "name": "Bahamas",
         "orientation": "v",
         "showlegend": true,
         "type": "scatter",
         "x": [
          2020,
          2021,
          2022,
          2023
         ],
         "xaxis": "x",
         "y": [
          19,
          18,
          19,
          26
         ],
         "yaxis": "y"
        },
        {
         "hovertemplate": "Nation=Bahreïn<br>Annee=%{x}<br>value=%{y}<extra></extra>",
         "legendgroup": "Bahreïn",
         "line": {
          "color": "#FF6692",
          "dash": "solid"
         },
         "marker": {
          "symbol": "circle"
         },
         "mode": "lines",
         "name": "Bahreïn",
         "orientation": "v",
         "showlegend": true,
         "type": "scatter",
         "x": [
          2020,
          2021,
          2022,
          2023
         ],
         "xaxis": "x",
         "y": [
          23,
          21,
          23,
          23
         ],
         "yaxis": "y"
        },
        {
         "hovertemplate": "Nation=Bangladesh<br>Annee=%{x}<br>value=%{y}<extra></extra>",
         "legendgroup": "Bangladesh",
         "line": {
          "color": "#B6E880",
          "dash": "solid"
         },
         "marker": {
          "symbol": "circle"
         },
         "mode": "lines",
         "name": "Bangladesh",
         "orientation": "v",
         "showlegend": true,
         "type": "scatter",
         "x": [
          2020,
          2021,
          2022,
          2023
         ],
         "xaxis": "x",
         "y": [
          379,
          394,
          384,
          386
         ],
         "yaxis": "y"
        },
        {
         "hovertemplate": "Nation=Barbade<br>Annee=%{x}<br>value=%{y}<extra></extra>",
         "legendgroup": "Barbade",
         "line": {
          "color": "#FF97FF",
          "dash": "solid"
         },
         "marker": {
          "symbol": "circle"
         },
         "mode": "lines",
         "name": "Barbade",
         "orientation": "v",
         "showlegend": true,
         "type": "scatter",
         "x": [
          2020,
          2021,
          2022,
          2023
         ],
         "xaxis": "x",
         "y": [
          22,
          25,
          22,
          22
         ],
         "yaxis": "y"
        },
        {
         "hovertemplate": "Nation=Belgique<br>Annee=%{x}<br>value=%{y}<extra></extra>",
         "legendgroup": "Belgique",
         "line": {
          "color": "#FECB52",
          "dash": "solid"
         },
         "marker": {
          "symbol": "circle"
         },
         "mode": "lines",
         "name": "Belgique",
         "orientation": "v",
         "showlegend": true,
         "type": "scatter",
         "x": [
          2020,
          2021,
          2022,
          2023
         ],
         "xaxis": "x",
         "y": [
          981,
          982,
          997,
          1041
         ],
         "yaxis": "y"
        },
        {
         "hovertemplate": "Nation=Belize<br>Annee=%{x}<br>value=%{y}<extra></extra>",
         "legendgroup": "Belize",
         "line": {
          "color": "#636efa",
          "dash": "solid"
         },
         "marker": {
          "symbol": "circle"
         },
         "mode": "lines",
         "name": "Belize",
         "orientation": "v",
         "showlegend": true,
         "type": "scatter",
         "x": [
          2020,
          2021,
          2022,
          2023
         ],
         "xaxis": "x",
         "y": [
          16,
          14,
          18,
          17
         ],
         "yaxis": "y"
        },
        {
         "hovertemplate": "Nation=Bhoutan<br>Annee=%{x}<br>value=%{y}<extra></extra>",
         "legendgroup": "Bhoutan",
         "line": {
          "color": "#EF553B",
          "dash": "solid"
         },
         "marker": {
          "symbol": "circle"
         },
         "mode": "lines",
         "name": "Bhoutan",
         "orientation": "v",
         "showlegend": true,
         "type": "scatter",
         "x": [
          2020,
          2021,
          2022,
          2023
         ],
         "xaxis": "x",
         "y": [
          19,
          22,
          27,
          29
         ],
         "yaxis": "y"
        },
        {
         "hovertemplate": "Nation=Bolivie<br>Annee=%{x}<br>value=%{y}<extra></extra>",
         "legendgroup": "Bolivie",
         "line": {
          "color": "#00cc96",
          "dash": "solid"
         },
         "marker": {
          "symbol": "circle"
         },
         "mode": "lines",
         "name": "Bolivie",
         "orientation": "v",
         "showlegend": true,
         "type": "scatter",
         "x": [
          2020,
          2021,
          2022,
          2023
         ],
         "xaxis": "x",
         "y": [
          393,
          417,
          405,
          419
         ],
         "yaxis": "y"
        },
        {
         "hovertemplate": "Nation=Bosnie et Herzégovine<br>Annee=%{x}<br>value=%{y}<extra></extra>",
         "legendgroup": "Bosnie et Herzégovine",
         "line": {
          "color": "#ab63fa",
          "dash": "solid"
         },
         "marker": {
          "symbol": "circle"
         },
         "mode": "lines",
         "name": "Bosnie et Herzégovine",
         "orientation": "v",
         "showlegend": true,
         "type": "scatter",
         "x": [
          2020,
          2021,
          2022,
          2023
         ],
         "xaxis": "x",
         "y": [
          1298,
          1312,
          1323,
          1343
         ],
         "yaxis": "y"
        },
        {
         "hovertemplate": "Nation=Botswana<br>Annee=%{x}<br>value=%{y}<extra></extra>",
         "legendgroup": "Botswana",
         "line": {
          "color": "#FFA15A",
          "dash": "solid"
         },
         "marker": {
          "symbol": "circle"
         },
         "mode": "lines",
         "name": "Botswana",
         "orientation": "v",
         "showlegend": true,
         "type": "scatter",
         "x": [
          2020,
          2021,
          2022,
          2023
         ],
         "xaxis": "x",
         "y": [
          10,
          15,
          14,
          11
         ],
         "yaxis": "y"
        },
        {
         "hovertemplate": "Nation=Brunéi<br>Annee=%{x}<br>value=%{y}<extra></extra>",
         "legendgroup": "Brunéi",
         "line": {
          "color": "#19d3f3",
          "dash": "solid"
         },
         "marker": {
          "symbol": "circle"
         },
         "mode": "lines",
         "name": "Brunéi",
         "orientation": "v",
         "showlegend": true,
         "type": "scatter",
         "x": [
          2020,
          2021,
          2022,
          2023
         ],
         "xaxis": "x",
         "y": [
          6,
          5,
          7,
          6
         ],
         "yaxis": "y"
        },
        {
         "hovertemplate": "Nation=Brésil<br>Annee=%{x}<br>value=%{y}<extra></extra>",
         "legendgroup": "Brésil",
         "line": {
          "color": "#FF6692",
          "dash": "solid"
         },
         "marker": {
          "symbol": "circle"
         },
         "mode": "lines",
         "name": "Brésil",
         "orientation": "v",
         "showlegend": true,
         "type": "scatter",
         "x": [
          2020,
          2021,
          2022,
          2023
         ],
         "xaxis": "x",
         "y": [
          1616,
          1644,
          1663,
          1687
         ],
         "yaxis": "y"
        },
        {
         "hovertemplate": "Nation=Bulgarie<br>Annee=%{x}<br>value=%{y}<extra></extra>",
         "legendgroup": "Bulgarie",
         "line": {
          "color": "#B6E880",
          "dash": "solid"
         },
         "marker": {
          "symbol": "circle"
         },
         "mode": "lines",
         "name": "Bulgarie",
         "orientation": "v",
         "showlegend": true,
         "type": "scatter",
         "x": [
          2020,
          2021,
          2022,
          2023
         ],
         "xaxis": "x",
         "y": [
          900,
          972,
          1010,
          1054
         ],
         "yaxis": "y"
        },
        {
         "hovertemplate": "Nation=Burkina Faso<br>Annee=%{x}<br>value=%{y}<extra></extra>",
         "legendgroup": "Burkina Faso",
         "line": {
          "color": "#FF97FF",
          "dash": "solid"
         },
         "marker": {
          "symbol": "circle"
         },
         "mode": "lines",
         "name": "Burkina Faso",
         "orientation": "v",
         "showlegend": true,
         "type": "scatter",
         "x": [
          2020,
          2021,
          2022,
          2023
         ],
         "xaxis": "x",
         "y": [
          159,
          173,
          172,
          181
         ],
         "yaxis": "y"
        },
        {
         "hovertemplate": "Nation=Burundi<br>Annee=%{x}<br>value=%{y}<extra></extra>",
         "legendgroup": "Burundi",
         "line": {
          "color": "#FECB52",
          "dash": "solid"
         },
         "marker": {
          "symbol": "circle"
         },
         "mode": "lines",
         "name": "Burundi",
         "orientation": "v",
         "showlegend": true,
         "type": "scatter",
         "x": [
          2020,
          2021,
          2022,
          2023
         ],
         "xaxis": "x",
         "y": [
          131,
          146,
          145,
          153
         ],
         "yaxis": "y"
        },
        {
         "hovertemplate": "Nation=Bélarus<br>Annee=%{x}<br>value=%{y}<extra></extra>",
         "legendgroup": "Bélarus",
         "line": {
          "color": "#636efa",
          "dash": "solid"
         },
         "marker": {
          "symbol": "circle"
         },
         "mode": "lines",
         "name": "Bélarus",
         "orientation": "v",
         "showlegend": true,
         "type": "scatter",
         "x": [
          2020,
          2021,
          2022,
          2023
         ],
         "xaxis": "x",
         "y": [
          394,
          412,
          430,
          453
         ],
         "yaxis": "y"
        },
        {
         "hovertemplate": "Nation=Bénin<br>Annee=%{x}<br>value=%{y}<extra></extra>",
         "legendgroup": "Bénin",
         "line": {
          "color": "#EF553B",
          "dash": "solid"
         },
         "marker": {
          "symbol": "circle"
         },
         "mode": "lines",
         "name": "Bénin",
         "orientation": "v",
         "showlegend": true,
         "type": "scatter",
         "x": [
          2020,
          2021,
          2022,
          2023
         ],
         "xaxis": "x",
         "y": [
          151,
          157,
          168,
          177
         ],
         "yaxis": "y"
        },
        {
         "hovertemplate": "Nation=Cambodge<br>Annee=%{x}<br>value=%{y}<extra></extra>",
         "legendgroup": "Cambodge",
         "line": {
          "color": "#00cc96",
          "dash": "solid"
         },
         "marker": {
          "symbol": "circle"
         },
         "mode": "lines",
         "name": "Cambodge",
         "orientation": "v",
         "showlegend": true,
         "type": "scatter",
         "x": [
          2020,
          2021,
          2022,
          2023
         ],
         "xaxis": "x",
         "y": [
          277,
          294,
          292,
          313
         ],
         "yaxis": "y"
        },
        {
         "hovertemplate": "Nation=Cameroun<br>Annee=%{x}<br>value=%{y}<extra></extra>",
         "legendgroup": "Cameroun",
         "line": {
          "color": "#ab63fa",
          "dash": "solid"
         },
         "marker": {
          "symbol": "circle"
         },
         "mode": "lines",
         "name": "Cameroun",
         "orientation": "v",
         "showlegend": true,
         "type": "scatter",
         "x": [
          2020,
          2021,
          2022,
          2023
         ],
         "xaxis": "x",
         "y": [
          697,
          697,
          717,
          731
         ],
         "yaxis": "y"
        },
        {
         "hovertemplate": "Nation=Canada<br>Annee=%{x}<br>value=%{y}<extra></extra>",
         "legendgroup": "Canada",
         "line": {
          "color": "#FFA15A",
          "dash": "solid"
         },
         "marker": {
          "symbol": "circle"
         },
         "mode": "lines",
         "name": "Canada",
         "orientation": "v",
         "showlegend": true,
         "type": "scatter",
         "x": [
          2020,
          2021,
          2022,
          2023
         ],
         "xaxis": "x",
         "y": [
          1037,
          1079,
          1105,
          1124
         ],
         "yaxis": "y"
        },
        {
         "hovertemplate": "Nation=Cap-Vert<br>Annee=%{x}<br>value=%{y}<extra></extra>",
         "legendgroup": "Cap-Vert",
         "line": {
          "color": "#19d3f3",
          "dash": "solid"
         },
         "marker": {
          "symbol": "circle"
         },
         "mode": "lines",
         "name": "Cap-Vert",
         "orientation": "v",
         "showlegend": true,
         "type": "scatter",
         "x": [
          2020,
          2021,
          2022,
          2023
         ],
         "xaxis": "x",
         "y": [
          264,
          273,
          272,
          280
         ],
         "yaxis": "y"
        },
        {
         "hovertemplate": "Nation=Chili<br>Annee=%{x}<br>value=%{y}<extra></extra>",
         "legendgroup": "Chili",
         "line": {
          "color": "#FF6692",
          "dash": "solid"
         },
         "marker": {
          "symbol": "circle"
         },
         "mode": "lines",
         "name": "Chili",
         "orientation": "v",
         "showlegend": true,
         "type": "scatter",
         "x": [
          2020,
          2021,
          2022,
          2023
         ],
         "xaxis": "x",
         "y": [
          597,
          612,
          609,
          629
         ],
         "yaxis": "y"
        },
        {
         "hovertemplate": "Nation=Chine (rép. pop.)<br>Annee=%{x}<br>value=%{y}<extra></extra>",
         "legendgroup": "Chine (rép. pop.)",
         "line": {
          "color": "#B6E880",
          "dash": "solid"
         },
         "marker": {
          "symbol": "circle"
         },
         "mode": "lines",
         "name": "Chine (rép. pop.)",
         "orientation": "v",
         "showlegend": true,
         "type": "scatter",
         "x": [
          2020,
          2021,
          2022,
          2023
         ],
         "xaxis": "x",
         "y": [
          1303,
          1375,
          1438,
          1482
         ],
         "yaxis": "y"
        },
        {
         "hovertemplate": "Nation=Chypre<br>Annee=%{x}<br>value=%{y}<extra></extra>",
         "legendgroup": "Chypre",
         "line": {
          "color": "#FF97FF",
          "dash": "solid"
         },
         "marker": {
          "symbol": "circle"
         },
         "mode": "lines",
         "name": "Chypre",
         "orientation": "v",
         "showlegend": true,
         "type": "scatter",
         "x": [
          2020,
          2021,
          2022,
          2023
         ],
         "xaxis": "x",
         "y": [
          242,
          256,
          285,
          294
         ],
         "yaxis": "y"
        },
        {
         "hovertemplate": "Nation=Colombie<br>Annee=%{x}<br>value=%{y}<extra></extra>",
         "legendgroup": "Colombie",
         "line": {
          "color": "#FECB52",
          "dash": "solid"
         },
         "marker": {
          "symbol": "circle"
         },
         "mode": "lines",
         "name": "Colombie",
         "orientation": "v",
         "showlegend": true,
         "type": "scatter",
         "x": [
          2020,
          2021,
          2022,
          2023
         ],
         "xaxis": "x",
         "y": [
          809,
          850,
          885,
          906
         ],
         "yaxis": "y"
        },
        {
         "hovertemplate": "Nation=Comores<br>Annee=%{x}<br>value=%{y}<extra></extra>",
         "legendgroup": "Comores",
         "line": {
          "color": "#636efa",
          "dash": "solid"
         },
         "marker": {
          "symbol": "circle"
         },
         "mode": "lines",
         "name": "Comores",
         "orientation": "v",
         "showlegend": true,
         "type": "scatter",
         "x": [
          2020,
          2021,
          2022,
          2023
         ],
         "xaxis": "x",
         "y": [
          16,
          17,
          17,
          18
         ],
         "yaxis": "y"
        },
        {
         "hovertemplate": "Nation=Congo<br>Annee=%{x}<br>value=%{y}<extra></extra>",
         "legendgroup": "Congo",
         "line": {
          "color": "#EF553B",
          "dash": "solid"
         },
         "marker": {
          "symbol": "circle"
         },
         "mode": "lines",
         "name": "Congo",
         "orientation": "v",
         "showlegend": true,
         "type": "scatter",
         "x": [
          2020,
          2021,
          2022,
          2023
         ],
         "xaxis": "x",
         "y": [
          160,
          162,
          160,
          154
         ],
         "yaxis": "y"
        },
        {
         "hovertemplate": "Nation=Congo RDC<br>Annee=%{x}<br>value=%{y}<extra></extra>",
         "legendgroup": "Congo RDC",
         "line": {
          "color": "#00cc96",
          "dash": "solid"
         },
         "marker": {
          "symbol": "circle"
         },
         "mode": "lines",
         "name": "Congo RDC",
         "orientation": "v",
         "showlegend": true,
         "type": "scatter",
         "x": [
          2020,
          2021,
          2022,
          2023
         ],
         "xaxis": "x",
         "y": [
          685,
          706,
          726,
          730
         ],
         "yaxis": "y"
        },
        {
         "hovertemplate": "Nation=Corée (Nord)<br>Annee=%{x}<br>value=%{y}<extra></extra>",
         "legendgroup": "Corée (Nord)",
         "line": {
          "color": "#ab63fa",
          "dash": "solid"
         },
         "marker": {
          "symbol": "circle"
         },
         "mode": "lines",
         "name": "Corée (Nord)",
         "orientation": "v",
         "showlegend": true,
         "type": "scatter",
         "x": [
          2020,
          2021,
          2022,
          2023
         ],
         "xaxis": "x",
         "y": [
          6,
          5,
          5,
          8
         ],
         "yaxis": "y"
        },
        {
         "hovertemplate": "Nation=Corée (Sud)<br>Annee=%{x}<br>value=%{y}<extra></extra>",
         "legendgroup": "Corée (Sud)",
         "line": {
          "color": "#FFA15A",
          "dash": "solid"
         },
         "marker": {
          "symbol": "circle"
         },
         "mode": "lines",
         "name": "Corée (Sud)",
         "orientation": "v",
         "showlegend": true,
         "type": "scatter",
         "x": [
          2020,
          2021,
          2022,
          2023
         ],
         "xaxis": "x",
         "y": [
          457,
          448,
          461,
          490
         ],
         "yaxis": "y"
        },
        {
         "hovertemplate": "Nation=Costa Rica<br>Annee=%{x}<br>value=%{y}<extra></extra>",
         "legendgroup": "Costa Rica",
         "line": {
          "color": "#19d3f3",
          "dash": "solid"
         },
         "marker": {
          "symbol": "circle"
         },
         "mode": "lines",
         "name": "Costa Rica",
         "orientation": "v",
         "showlegend": true,
         "type": "scatter",
         "x": [
          2020,
          2021,
          2022,
          2023
         ],
         "xaxis": "x",
         "y": [
          205,
          221,
          230,
          237
         ],
         "yaxis": "y"
        },
        {
         "hovertemplate": "Nation=Croatie<br>Annee=%{x}<br>value=%{y}<extra></extra>",
         "legendgroup": "Croatie",
         "line": {
          "color": "#FF6692",
          "dash": "solid"
         },
         "marker": {
          "symbol": "circle"
         },
         "mode": "lines",
         "name": "Croatie",
         "orientation": "v",
         "showlegend": true,
         "type": "scatter",
         "x": [
          2020,
          2021,
          2022,
          2023
         ],
         "xaxis": "x",
         "y": [
          1177,
          1182,
          1171,
          1194
         ],
         "yaxis": "y"
        },
        {
         "hovertemplate": "Nation=Cuba<br>Annee=%{x}<br>value=%{y}<extra></extra>",
         "legendgroup": "Cuba",
         "line": {
          "color": "#B6E880",
          "dash": "solid"
         },
         "marker": {
          "symbol": "circle"
         },
         "mode": "lines",
         "name": "Cuba",
         "orientation": "v",
         "showlegend": true,
         "type": "scatter",
         "x": [
          2020,
          2021,
          2022,
          2023
         ],
         "xaxis": "x",
         "y": [
          497,
          512,
          509,
          525
         ],
         "yaxis": "y"
        },
        {
         "hovertemplate": "Nation=Côte d'Ivoire<br>Annee=%{x}<br>value=%{y}<extra></extra>",
         "legendgroup": "Côte d'Ivoire",
         "line": {
          "color": "#FF97FF",
          "dash": "solid"
         },
         "marker": {
          "symbol": "circle"
         },
         "mode": "lines",
         "name": "Côte d'Ivoire",
         "orientation": "v",
         "showlegend": true,
         "type": "scatter",
         "x": [
          2020,
          2021,
          2022,
          2023
         ],
         "xaxis": "x",
         "y": [
          452,
          453,
          439,
          451
         ],
         "yaxis": "y"
        },
        {
         "hovertemplate": "Nation=Danemark<br>Annee=%{x}<br>value=%{y}<extra></extra>",
         "legendgroup": "Danemark",
         "line": {
          "color": "#FECB52",
          "dash": "solid"
         },
         "marker": {
          "symbol": "circle"
         },
         "mode": "lines",
         "name": "Danemark",
         "orientation": "v",
         "showlegend": true,
         "type": "scatter",
         "x": [
          2020,
          2021,
          2022,
          2023
         ],
         "xaxis": "x",
         "y": [
          697,
          690,
          710,
          730
         ],
         "yaxis": "y"
        },
        {
         "hovertemplate": "Nation=Djibouti<br>Annee=%{x}<br>value=%{y}<extra></extra>",
         "legendgroup": "Djibouti",
         "line": {
          "color": "#636efa",
          "dash": "solid"
         },
         "marker": {
          "symbol": "circle"
         },
         "mode": "lines",
         "name": "Djibouti",
         "orientation": "v",
         "showlegend": true,
         "type": "scatter",
         "x": [
          2020,
          2021,
          2022,
          2023
         ],
         "xaxis": "x",
         "y": [
          22,
          22,
          25,
          30
         ],
         "yaxis": "y"
        },
        {
         "hovertemplate": "Nation=Dominique<br>Annee=%{x}<br>value=%{y}<extra></extra>",
         "legendgroup": "Dominique",
         "line": {
          "color": "#EF553B",
          "dash": "solid"
         },
         "marker": {
          "symbol": "circle"
         },
         "mode": "lines",
         "name": "Dominique",
         "orientation": "v",
         "showlegend": true,
         "type": "scatter",
         "x": [
          2020,
          2021,
          2022,
          2023
         ],
         "xaxis": "x",
         "y": [
          31,
          38,
          49,
          51
         ],
         "yaxis": "y"
        },
        {
         "hovertemplate": "Nation=El Salvador<br>Annee=%{x}<br>value=%{y}<extra></extra>",
         "legendgroup": "El Salvador",
         "line": {
          "color": "#00cc96",
          "dash": "solid"
         },
         "marker": {
          "symbol": "circle"
         },
         "mode": "lines",
         "name": "El Salvador",
         "orientation": "v",
         "showlegend": true,
         "type": "scatter",
         "x": [
          2020,
          2021,
          2022,
          2023
         ],
         "xaxis": "x",
         "y": [
          142,
          154,
          165,
          165
         ],
         "yaxis": "y"
        },
        {
         "hovertemplate": "Nation=Espagne<br>Annee=%{x}<br>value=%{y}<extra></extra>",
         "legendgroup": "Espagne",
         "line": {
          "color": "#ab63fa",
          "dash": "solid"
         },
         "marker": {
          "symbol": "circle"
         },
         "mode": "lines",
         "name": "Espagne",
         "orientation": "v",
         "showlegend": true,
         "type": "scatter",
         "x": [
          2020,
          2021,
          2022,
          2023
         ],
         "xaxis": "x",
         "y": [
          1495,
          1549,
          1596,
          1589
         ],
         "yaxis": "y"
        },
        {
         "hovertemplate": "Nation=Estonie<br>Annee=%{x}<br>value=%{y}<extra></extra>",
         "legendgroup": "Estonie",
         "line": {
          "color": "#FFA15A",
          "dash": "solid"
         },
         "marker": {
          "symbol": "circle"
         },
         "mode": "lines",
         "name": "Estonie",
         "orientation": "v",
         "showlegend": true,
         "type": "scatter",
         "x": [
          2020,
          2021,
          2022,
          2023
         ],
         "xaxis": "x",
         "y": [
          296,
          315,
          340,
          348
         ],
         "yaxis": "y"
        },
        {
         "hovertemplate": "Nation=Eswatini<br>Annee=%{x}<br>value=%{y}<extra></extra>",
         "legendgroup": "Eswatini",
         "line": {
          "color": "#19d3f3",
          "dash": "solid"
         },
         "marker": {
          "symbol": "circle"
         },
         "mode": "lines",
         "name": "Eswatini",
         "orientation": "v",
         "showlegend": true,
         "type": "scatter",
         "x": [
          2020,
          2021,
          2022,
          2023
         ],
         "xaxis": "x",
         "y": [
          5,
          6,
          7,
          11
         ],
         "yaxis": "y"
        },
        {
         "hovertemplate": "Nation=Finlande<br>Annee=%{x}<br>value=%{y}<extra></extra>",
         "legendgroup": "Finlande",
         "line": {
          "color": "#FF6692",
          "dash": "solid"
         },
         "marker": {
          "symbol": "circle"
         },
         "mode": "lines",
         "name": "Finlande",
         "orientation": "v",
         "showlegend": true,
         "type": "scatter",
         "x": [
          2020,
          2021,
          2022,
          2023
         ],
         "xaxis": "x",
         "y": [
          655,
          662,
          681,
          703
         ],
         "yaxis": "y"
        },
        {
         "hovertemplate": "Nation=France<br>Annee=%{x}<br>value=%{y}<extra></extra>",
         "legendgroup": "France",
         "line": {
          "color": "#B6E880",
          "dash": "solid"
         },
         "marker": {
          "symbol": "circle"
         },
         "mode": "lines",
         "name": "France",
         "orientation": "v",
         "showlegend": true,
         "type": "scatter",
         "x": [
          2020,
          2021,
          2022,
          2023
         ],
         "xaxis": "x",
         "y": [
          1404,
          1436,
          1427,
          1484
         ],
         "yaxis": "y"
        },
        {
         "hovertemplate": "Nation=Gabon<br>Annee=%{x}<br>value=%{y}<extra></extra>",
         "legendgroup": "Gabon",
         "line": {
          "color": "#FF97FF",
          "dash": "solid"
         },
         "marker": {
          "symbol": "circle"
         },
         "mode": "lines",
         "name": "Gabon",
         "orientation": "v",
         "showlegend": true,
         "type": "scatter",
         "x": [
          2020,
          2021,
          2022,
          2023
         ],
         "xaxis": "x",
         "y": [
          72,
          75,
          74,
          77
         ],
         "yaxis": "y"
        },
        {
         "hovertemplate": "Nation=Gambie<br>Annee=%{x}<br>value=%{y}<extra></extra>",
         "legendgroup": "Gambie",
         "line": {
          "color": "#FECB52",
          "dash": "solid"
         },
         "marker": {
          "symbol": "circle"
         },
         "mode": "lines",
         "name": "Gambie",
         "orientation": "v",
         "showlegend": true,
         "type": "scatter",
         "x": [
          2020,
          2021,
          2022,
          2023
         ],
         "xaxis": "x",
         "y": [
          211,
          224,
          235,
          252
         ],
         "yaxis": "y"
        },
        {
         "hovertemplate": "Nation=Ghana<br>Annee=%{x}<br>value=%{y}<extra></extra>",
         "legendgroup": "Ghana",
         "line": {
          "color": "#636efa",
          "dash": "solid"
         },
         "marker": {
          "symbol": "circle"
         },
         "mode": "lines",
         "name": "Ghana",
         "orientation": "v",
         "showlegend": true,
         "type": "scatter",
         "x": [
          2020,
          2021,
          2022,
          2023
         ],
         "xaxis": "x",
         "y": [
          357,
          378,
          385,
          396
         ],
         "yaxis": "y"
        },
        {
         "hovertemplate": "Nation=Grenade<br>Annee=%{x}<br>value=%{y}<extra></extra>",
         "legendgroup": "Grenade",
         "line": {
          "color": "#EF553B",
          "dash": "solid"
         },
         "marker": {
          "symbol": "circle"
         },
         "mode": "lines",
         "name": "Grenade",
         "orientation": "v",
         "showlegend": true,
         "type": "scatter",
         "x": [
          2020,
          2021,
          2022,
          2023
         ],
         "xaxis": "x",
         "y": [
          9,
          14,
          16,
          24
         ],
         "yaxis": "y"
        },
        {
         "hovertemplate": "Nation=Grèce<br>Annee=%{x}<br>value=%{y}<extra></extra>",
         "legendgroup": "Grèce",
         "line": {
          "color": "#00cc96",
          "dash": "solid"
         },
         "marker": {
          "symbol": "circle"
         },
         "mode": "lines",
         "name": "Grèce",
         "orientation": "v",
         "showlegend": true,
         "type": "scatter",
         "x": [
          2020,
          2021,
          2022,
          2023
         ],
         "xaxis": "x",
         "y": [
          900,
          915,
          971,
          989
         ],
         "yaxis": "y"
        },
        {
         "hovertemplate": "Nation=Guatemala<br>Annee=%{x}<br>value=%{y}<extra></extra>",
         "legendgroup": "Guatemala",
         "line": {
          "color": "#ab63fa",
          "dash": "solid"
         },
         "marker": {
          "symbol": "circle"
         },
         "mode": "lines",
         "name": "Guatemala",
         "orientation": "v",
         "showlegend": true,
         "type": "scatter",
         "x": [
          2020,
          2021,
          2022,
          2023
         ],
         "xaxis": "x",
         "y": [
          160,
          167,
          163,
          167
         ],
         "yaxis": "y"
        },
        {
         "hovertemplate": "Nation=Guinée<br>Annee=%{x}<br>value=%{y}<extra></extra>",
         "legendgroup": "Guinée",
         "line": {
          "color": "#FFA15A",
          "dash": "solid"
         },
         "marker": {
          "symbol": "circle"
         },
         "mode": "lines",
         "name": "Guinée",
         "orientation": "v",
         "showlegend": true,
         "type": "scatter",
         "x": [
          2020,
          2021,
          2022,
          2023
         ],
         "xaxis": "x",
         "y": [
          316,
          327,
          347,
          364
         ],
         "yaxis": "y"
        },
        {
         "hovertemplate": "Nation=Guinée équatoriale<br>Annee=%{x}<br>value=%{y}<extra></extra>",
         "legendgroup": "Guinée équatoriale",
         "line": {
          "color": "#19d3f3",
          "dash": "solid"
         },
         "marker": {
          "symbol": "circle"
         },
         "mode": "lines",
         "name": "Guinée équatoriale",
         "orientation": "v",
         "showlegend": true,
         "type": "scatter",
         "x": [
          2020,
          2021,
          2022,
          2023
         ],
         "xaxis": "x",
         "y": [
          27,
          27,
          26,
          28
         ],
         "yaxis": "y"
        },
        {
         "hovertemplate": "Nation=Guinée-Bissau<br>Annee=%{x}<br>value=%{y}<extra></extra>",
         "legendgroup": "Guinée-Bissau",
         "line": {
          "color": "#FF6692",
          "dash": "solid"
         },
         "marker": {
          "symbol": "circle"
         },
         "mode": "lines",
         "name": "Guinée-Bissau",
         "orientation": "v",
         "showlegend": true,
         "type": "scatter",
         "x": [
          2020,
          2021,
          2022,
          2023
         ],
         "xaxis": "x",
         "y": [
          81,
          91,
          103,
          115
         ],
         "yaxis": "y"
        },
        {
         "hovertemplate": "Nation=Guyana (république)<br>Annee=%{x}<br>value=%{y}<extra></extra>",
         "legendgroup": "Guyana (république)",
         "line": {
          "color": "#B6E880",
          "dash": "solid"
         },
         "marker": {
          "symbol": "circle"
         },
         "mode": "lines",
         "name": "Guyana (république)",
         "orientation": "v",
         "showlegend": true,
         "type": "scatter",
         "x": [
          2020,
          2021,
          2022,
          2023
         ],
         "xaxis": "x",
         "y": [
          13,
          14,
          12,
          12
         ],
         "yaxis": "y"
        },
        {
         "hovertemplate": "Nation=Géorgie<br>Annee=%{x}<br>value=%{y}<extra></extra>",
         "legendgroup": "Géorgie",
         "line": {
          "color": "#FF97FF",
          "dash": "solid"
         },
         "marker": {
          "symbol": "circle"
         },
         "mode": "lines",
         "name": "Géorgie",
         "orientation": "v",
         "showlegend": true,
         "type": "scatter",
         "x": [
          2020,
          2021,
          2022,
          2023
         ],
         "xaxis": "x",
         "y": [
          264,
          284,
          304,
          330
         ],
         "yaxis": "y"
        },
        {
         "hovertemplate": "Nation=Haïti<br>Annee=%{x}<br>value=%{y}<extra></extra>",
         "legendgroup": "Haïti",
         "line": {
          "color": "#FECB52",
          "dash": "solid"
         },
         "marker": {
          "symbol": "circle"
         },
         "mode": "lines",
         "name": "Haïti",
         "orientation": "v",
         "showlegend": true,
         "type": "scatter",
         "x": [
          2020,
          2021,
          2022,
          2023
         ],
         "xaxis": "x",
         "y": [
          205,
          208,
          206,
          195
         ],
         "yaxis": "y"
        },
        {
         "hovertemplate": "Nation=Honduras<br>Annee=%{x}<br>value=%{y}<extra></extra>",
         "legendgroup": "Honduras",
         "line": {
          "color": "#636efa",
          "dash": "solid"
         },
         "marker": {
          "symbol": "circle"
         },
         "mode": "lines",
         "name": "Honduras",
         "orientation": "v",
         "showlegend": true,
         "type": "scatter",
         "x": [
          2020,
          2021,
          2022,
          2023
         ],
         "xaxis": "x",
         "y": [
          165,
          180,
          192,
          202
         ],
         "yaxis": "y"
        },
        {
         "hovertemplate": "Nation=Hongrie<br>Annee=%{x}<br>value=%{y}<extra></extra>",
         "legendgroup": "Hongrie",
         "line": {
          "color": "#EF553B",
          "dash": "solid"
         },
         "marker": {
          "symbol": "circle"
         },
         "mode": "lines",
         "name": "Hongrie",
         "orientation": "v",
         "showlegend": true,
         "type": "scatter",
         "x": [
          2020,
          2021,
          2022,
          2023
         ],
         "xaxis": "x",
         "y": [
          1113,
          1174,
          1215,
          1275
         ],
         "yaxis": "y"
        },
        {
         "hovertemplate": "Nation=Iles Fidji<br>Annee=%{x}<br>value=%{y}<extra></extra>",
         "legendgroup": "Iles Fidji",
         "line": {
          "color": "#00cc96",
          "dash": "solid"
         },
         "marker": {
          "symbol": "circle"
         },
         "mode": "lines",
         "name": "Iles Fidji",
         "orientation": "v",
         "showlegend": true,
         "type": "scatter",
         "x": [
          2020,
          2021,
          2022,
          2023
         ],
         "xaxis": "x",
         "y": [
          28,
          28,
          27,
          28
         ],
         "yaxis": "y"
        },
        {
         "hovertemplate": "Nation=Iles Marshall<br>Annee=%{x}<br>value=%{y}<extra></extra>",
         "legendgroup": "Iles Marshall",
         "line": {
          "color": "#ab63fa",
          "dash": "solid"
         },
         "marker": {
          "symbol": "circle"
         },
         "mode": "lines",
         "name": "Iles Marshall",
         "orientation": "v",
         "showlegend": true,
         "type": "scatter",
         "x": [
          2020,
          2021,
          2022,
          2023
         ],
         "xaxis": "x",
         "y": [
          2,
          1,
          1,
          1
         ],
         "yaxis": "y"
        },
        {
         "hovertemplate": "Nation=Inde<br>Annee=%{x}<br>value=%{y}<extra></extra>",
         "legendgroup": "Inde",
         "line": {
          "color": "#FFA15A",
          "dash": "solid"
         },
         "marker": {
          "symbol": "circle"
         },
         "mode": "lines",
         "name": "Inde",
         "orientation": "v",
         "showlegend": true,
         "type": "scatter",
         "x": [
          2020,
          2021,
          2022,
          2023
         ],
         "xaxis": "x",
         "y": [
          1191,
          1220,
          1266,
          1282
         ],
         "yaxis": "y"
        },
        {
         "hovertemplate": "Nation=Indonésie<br>Annee=%{x}<br>value=%{y}<extra></extra>",
         "legendgroup": "Indonésie",
         "line": {
          "color": "#19d3f3",
          "dash": "solid"
         },
         "marker": {
          "symbol": "circle"
         },
         "mode": "lines",
         "name": "Indonésie",
         "orientation": "v",
         "showlegend": true,
         "type": "scatter",
         "x": [
          2020,
          2021,
          2022,
          2023
         ],
         "xaxis": "x",
         "y": [
          459,
          488,
          503,
          526
         ],
         "yaxis": "y"
        },
        {
         "hovertemplate": "Nation=Irak<br>Annee=%{x}<br>value=%{y}<extra></extra>",
         "legendgroup": "Irak",
         "line": {
          "color": "#FF6692",
          "dash": "solid"
         },
         "marker": {
          "symbol": "circle"
         },
         "mode": "lines",
         "name": "Irak",
         "orientation": "v",
         "showlegend": true,
         "type": "scatter",
         "x": [
          2020,
          2021,
          2022,
          2023
         ],
         "xaxis": "x",
         "y": [
          940,
          955,
          972,
          983
         ],
         "yaxis": "y"
        },
        {
         "hovertemplate": "Nation=Iran<br>Annee=%{x}<br>value=%{y}<extra></extra>",
         "legendgroup": "Iran",
         "line": {
          "color": "#B6E880",
          "dash": "solid"
         },
         "marker": {
          "symbol": "circle"
         },
         "mode": "lines",
         "name": "Iran",
         "orientation": "v",
         "showlegend": true,
         "type": "scatter",
         "x": [
          2020,
          2021,
          2022,
          2023
         ],
         "xaxis": "x",
         "y": [
          854,
          875,
          891,
          927
         ],
         "yaxis": "y"
        },
        {
         "hovertemplate": "Nation=Irlande<br>Annee=%{x}<br>value=%{y}<extra></extra>",
         "legendgroup": "Irlande",
         "line": {
          "color": "#FF97FF",
          "dash": "solid"
         },
         "marker": {
          "symbol": "circle"
         },
         "mode": "lines",
         "name": "Irlande",
         "orientation": "v",
         "showlegend": true,
         "type": "scatter",
         "x": [
          2020,
          2021,
          2022,
          2023
         ],
         "xaxis": "x",
         "y": [
          700,
          723,
          746,
          789
         ],
         "yaxis": "y"
        },
        {
         "hovertemplate": "Nation=Islande<br>Annee=%{x}<br>value=%{y}<extra></extra>",
         "legendgroup": "Islande",
         "line": {
          "color": "#FECB52",
          "dash": "solid"
         },
         "marker": {
          "symbol": "circle"
         },
         "mode": "lines",
         "name": "Islande",
         "orientation": "v",
         "showlegend": true,
         "type": "scatter",
         "x": [
          2020,
          2021,
          2022,
          2023
         ],
         "xaxis": "x",
         "y": [
          188,
          199,
          201,
          210
         ],
         "yaxis": "y"
        },
        {
         "hovertemplate": "Nation=Israël<br>Annee=%{x}<br>value=%{y}<extra></extra>",
         "legendgroup": "Israël",
         "line": {
          "color": "#636efa",
          "dash": "solid"
         },
         "marker": {
          "symbol": "circle"
         },
         "mode": "lines",
         "name": "Israël",
         "orientation": "v",
         "showlegend": true,
         "type": "scatter",
         "x": [
          2020,
          2021,
          2022,
          2023
         ],
         "xaxis": "x",
         "y": [
          469,
          487,
          523,
          532
         ],
         "yaxis": "y"
        },
        {
         "hovertemplate": "Nation=Italie<br>Annee=%{x}<br>value=%{y}<extra></extra>",
         "legendgroup": "Italie",
         "line": {
          "color": "#EF553B",
          "dash": "solid"
         },
         "marker": {
          "symbol": "circle"
         },
         "mode": "lines",
         "name": "Italie",
         "orientation": "v",
         "showlegend": true,
         "type": "scatter",
         "x": [
          2020,
          2021,
          2022,
          2023
         ],
         "xaxis": "x",
         "y": [
          1841,
          1885,
          1909,
          1958
         ],
         "yaxis": "y"
        },
        {
         "hovertemplate": "Nation=Jamaïque<br>Annee=%{x}<br>value=%{y}<extra></extra>",
         "legendgroup": "Jamaïque",
         "line": {
          "color": "#00cc96",
          "dash": "solid"
         },
         "marker": {
          "symbol": "circle"
         },
         "mode": "lines",
         "name": "Jamaïque",
         "orientation": "v",
         "showlegend": true,
         "type": "scatter",
         "x": [
          2020,
          2021,
          2022,
          2023
         ],
         "xaxis": "x",
         "y": [
          179,
          180,
          182,
          183
         ],
         "yaxis": "y"
        },
        {
         "hovertemplate": "Nation=Japon<br>Annee=%{x}<br>value=%{y}<extra></extra>",
         "legendgroup": "Japon",
         "line": {
          "color": "#ab63fa",
          "dash": "solid"
         },
         "marker": {
          "symbol": "circle"
         },
         "mode": "lines",
         "name": "Japon",
         "orientation": "v",
         "showlegend": true,
         "type": "scatter",
         "x": [
          2020,
          2021,
          2022,
          2023
         ],
         "xaxis": "x",
         "y": [
          802,
          804,
          828,
          848
         ],
         "yaxis": "y"
        },
        {
         "hovertemplate": "Nation=Jordanie<br>Annee=%{x}<br>value=%{y}<extra></extra>",
         "legendgroup": "Jordanie",
         "line": {
          "color": "#FFA15A",
          "dash": "solid"
         },
         "marker": {
          "symbol": "circle"
         },
         "mode": "lines",
         "name": "Jordanie",
         "orientation": "v",
         "showlegend": true,
         "type": "scatter",
         "x": [
          2020,
          2021,
          2022,
          2023
         ],
         "xaxis": "x",
         "y": [
          211,
          218,
          222,
          217
         ],
         "yaxis": "y"
        },
        {
         "hovertemplate": "Nation=Kazakhstan<br>Annee=%{x}<br>value=%{y}<extra></extra>",
         "legendgroup": "Kazakhstan",
         "line": {
          "color": "#19d3f3",
          "dash": "solid"
         },
         "marker": {
          "symbol": "circle"
         },
         "mode": "lines",
         "name": "Kazakhstan",
         "orientation": "v",
         "showlegend": true,
         "type": "scatter",
         "x": [
          2020,
          2021,
          2022,
          2023
         ],
         "xaxis": "x",
         "y": [
          348,
          355,
          363,
          376
         ],
         "yaxis": "y"
        },
        {
         "hovertemplate": "Nation=Kenya<br>Annee=%{x}<br>value=%{y}<extra></extra>",
         "legendgroup": "Kenya",
         "line": {
          "color": "#FF6692",
          "dash": "solid"
         },
         "marker": {
          "symbol": "circle"
         },
         "mode": "lines",
         "name": "Kenya",
         "orientation": "v",
         "showlegend": true,
         "type": "scatter",
         "x": [
          2020,
          2021,
          2022,
          2023
         ],
         "xaxis": "x",
         "y": [
          472,
          489,
          508,
          494
         ],
         "yaxis": "y"
        },
        {
         "hovertemplate": "Nation=Kirghizistan<br>Annee=%{x}<br>value=%{y}<extra></extra>",
         "legendgroup": "Kirghizistan",
         "line": {
          "color": "#B6E880",
          "dash": "solid"
         },
         "marker": {
          "symbol": "circle"
         },
         "mode": "lines",
         "name": "Kirghizistan",
         "orientation": "v",
         "showlegend": true,
         "type": "scatter",
         "x": [
          2020,
          2021,
          2022,
          2023
         ],
         "xaxis": "x",
         "y": [
          135,
          133,
          129,
          130
         ],
         "yaxis": "y"
        },
        {
         "hovertemplate": "Nation=Kiribati<br>Annee=%{x}<br>value=%{y}<extra></extra>",
         "legendgroup": "Kiribati",
         "line": {
          "color": "#FF97FF",
          "dash": "solid"
         },
         "marker": {
          "symbol": "circle"
         },
         "mode": "lines",
         "name": "Kiribati",
         "orientation": "v",
         "showlegend": true,
         "type": "scatter",
         "x": [
          2020,
          2021,
          2022,
          2023
         ],
         "xaxis": "x",
         "y": [
          2,
          2,
          2,
          2
         ],
         "yaxis": "y"
        },
        {
         "hovertemplate": "Nation=Kosovo<br>Annee=%{x}<br>value=%{y}<extra></extra>",
         "legendgroup": "Kosovo",
         "line": {
          "color": "#FECB52",
          "dash": "solid"
         },
         "marker": {
          "symbol": "circle"
         },
         "mode": "lines",
         "name": "Kosovo",
         "orientation": "v",
         "showlegend": true,
         "type": "scatter",
         "x": [
          2020,
          2021,
          2022,
          2023
         ],
         "xaxis": "x",
         "y": [
          1880,
          1909,
          1920,
          1929
         ],
         "yaxis": "y"
        },
        {
         "hovertemplate": "Nation=Koweït<br>Annee=%{x}<br>value=%{y}<extra></extra>",
         "legendgroup": "Koweït",
         "line": {
          "color": "#636efa",
          "dash": "solid"
         },
         "marker": {
          "symbol": "circle"
         },
         "mode": "lines",
         "name": "Koweït",
         "orientation": "v",
         "showlegend": true,
         "type": "scatter",
         "x": [
          2020,
          2021,
          2022,
          2023
         ],
         "xaxis": "x",
         "y": [
          41,
          43,
          42,
          41
         ],
         "yaxis": "y"
        },
        {
         "hovertemplate": "Nation=Laos<br>Annee=%{x}<br>value=%{y}<extra></extra>",
         "legendgroup": "Laos",
         "line": {
          "color": "#EF553B",
          "dash": "solid"
         },
         "marker": {
          "symbol": "circle"
         },
         "mode": "lines",
         "name": "Laos",
         "orientation": "v",
         "showlegend": true,
         "type": "scatter",
         "x": [
          2020,
          2021,
          2022,
          2023
         ],
         "xaxis": "x",
         "y": [
          125,
          124,
          134,
          132
         ],
         "yaxis": "y"
        },
        {
         "hovertemplate": "Nation=Lesotho<br>Annee=%{x}<br>value=%{y}<extra></extra>",
         "legendgroup": "Lesotho",
         "line": {
          "color": "#00cc96",
          "dash": "solid"
         },
         "marker": {
          "symbol": "circle"
         },
         "mode": "lines",
         "name": "Lesotho",
         "orientation": "v",
         "showlegend": true,
         "type": "scatter",
         "x": [
          2020,
          2021,
          2022,
          2023
         ],
         "xaxis": "x",
         "y": [
          6,
          6,
          10,
          9
         ],
         "yaxis": "y"
        },
        {
         "hovertemplate": "Nation=Lettonie<br>Annee=%{x}<br>value=%{y}<extra></extra>",
         "legendgroup": "Lettonie",
         "line": {
          "color": "#ab63fa",
          "dash": "solid"
         },
         "marker": {
          "symbol": "circle"
         },
         "mode": "lines",
         "name": "Lettonie",
         "orientation": "v",
         "showlegend": true,
         "type": "scatter",
         "x": [
          2020,
          2021,
          2022,
          2023
         ],
         "xaxis": "x",
         "y": [
          554,
          573,
          604,
          630
         ],
         "yaxis": "y"
        },
        {
         "hovertemplate": "Nation=Liban<br>Annee=%{x}<br>value=%{y}<extra></extra>",
         "legendgroup": "Liban",
         "line": {
          "color": "#FFA15A",
          "dash": "solid"
         },
         "marker": {
          "symbol": "circle"
         },
         "mode": "lines",
         "name": "Liban",
         "orientation": "v",
         "showlegend": true,
         "type": "scatter",
         "x": [
          2020,
          2021,
          2022,
          2023
         ],
         "xaxis": "x",
         "y": [
          524,
          555,
          565,
          572
         ],
         "yaxis": "y"
        },
        {
         "hovertemplate": "Nation=Libye<br>Annee=%{x}<br>value=%{y}<extra></extra>",
         "legendgroup": "Libye",
         "line": {
          "color": "#19d3f3",
          "dash": "solid"
         },
         "marker": {
          "symbol": "circle"
         },
         "mode": "lines",
         "name": "Libye",
         "orientation": "v",
         "showlegend": true,
         "type": "scatter",
         "x": [
          2020,
          2021,
          2022,
          2023
         ],
         "xaxis": "x",
         "y": [
          241,
          248,
          247,
          232
         ],
         "yaxis": "y"
        },
        {
         "hovertemplate": "Nation=Libéria<br>Annee=%{x}<br>value=%{y}<extra></extra>",
         "legendgroup": "Libéria",
         "line": {
          "color": "#FF6692",
          "dash": "solid"
         },
         "marker": {
          "symbol": "circle"
         },
         "mode": "lines",
         "name": "Libéria",
         "orientation": "v",
         "showlegend": true,
         "type": "scatter",
         "x": [
          2020,
          2021,
          2022,
          2023
         ],
         "xaxis": "x",
         "y": [
          77,
          75,
          78,
          75
         ],
         "yaxis": "y"
        },
        {
         "hovertemplate": "Nation=Liechtenstein<br>Annee=%{x}<br>value=%{y}<extra></extra>",
         "legendgroup": "Liechtenstein",
         "line": {
          "color": "#B6E880",
          "dash": "solid"
         },
         "marker": {
          "symbol": "circle"
         },
         "mode": "lines",
         "name": "Liechtenstein",
         "orientation": "v",
         "showlegend": true,
         "type": "scatter",
         "x": [
          2020,
          2021,
          2022,
          2023
         ],
         "xaxis": "x",
         "y": [
          344,
          324,
          331,
          338
         ],
         "yaxis": "y"
        },
        {
         "hovertemplate": "Nation=Lituanie<br>Annee=%{x}<br>value=%{y}<extra></extra>",
         "legendgroup": "Lituanie",
         "line": {
          "color": "#FF97FF",
          "dash": "solid"
         },
         "marker": {
          "symbol": "circle"
         },
         "mode": "lines",
         "name": "Lituanie",
         "orientation": "v",
         "showlegend": true,
         "type": "scatter",
         "x": [
          2020,
          2021,
          2022,
          2023
         ],
         "xaxis": "x",
         "y": [
          539,
          574,
          601,
          631
         ],
         "yaxis": "y"
        },
        {
         "hovertemplate": "Nation=Luxembourg<br>Annee=%{x}<br>value=%{y}<extra></extra>",
         "legendgroup": "Luxembourg",
         "line": {
          "color": "#FECB52",
          "dash": "solid"
         },
         "marker": {
          "symbol": "circle"
         },
         "mode": "lines",
         "name": "Luxembourg",
         "orientation": "v",
         "showlegend": true,
         "type": "scatter",
         "x": [
          2020,
          2021,
          2022,
          2023
         ],
         "xaxis": "x",
         "y": [
          379,
          391,
          399,
          427
         ],
         "yaxis": "y"
        },
        {
         "hovertemplate": "Nation=Macédoine du Nord<br>Annee=%{x}<br>value=%{y}<extra></extra>",
         "legendgroup": "Macédoine du Nord",
         "line": {
          "color": "#636efa",
          "dash": "solid"
         },
         "marker": {
          "symbol": "circle"
         },
         "mode": "lines",
         "name": "Macédoine du Nord",
         "orientation": "v",
         "showlegend": true,
         "type": "scatter",
         "x": [
          2020,
          2021,
          2022,
          2023
         ],
         "xaxis": "x",
         "y": [
          1660,
          1715,
          1776,
          1831
         ],
         "yaxis": "y"
        },
        {
         "hovertemplate": "Nation=Madagascar<br>Annee=%{x}<br>value=%{y}<extra></extra>",
         "legendgroup": "Madagascar",
         "line": {
          "color": "#EF553B",
          "dash": "solid"
         },
         "marker": {
          "symbol": "circle"
         },
         "mode": "lines",
         "name": "Madagascar",
         "orientation": "v",
         "showlegend": true,
         "type": "scatter",
         "x": [
          2020,
          2021,
          2022,
          2023
         ],
         "xaxis": "x",
         "y": [
          211,
          220,
          232,
          255
         ],
         "yaxis": "y"
        },
        {
         "hovertemplate": "Nation=Malaisie<br>Annee=%{x}<br>value=%{y}<extra></extra>",
         "legendgroup": "Malaisie",
         "line": {
          "color": "#00cc96",
          "dash": "solid"
         },
         "marker": {
          "symbol": "circle"
         },
         "mode": "lines",
         "name": "Malaisie",
         "orientation": "v",
         "showlegend": true,
         "type": "scatter",
         "x": [
          2020,
          2021,
          2022,
          2023
         ],
         "xaxis": "x",
         "y": [
          453,
          449,
          453,
          470
         ],
         "yaxis": "y"
        },
        {
         "hovertemplate": "Nation=Malawi<br>Annee=%{x}<br>value=%{y}<extra></extra>",
         "legendgroup": "Malawi",
         "line": {
          "color": "#ab63fa",
          "dash": "solid"
         },
         "marker": {
          "symbol": "circle"
         },
         "mode": "lines",
         "name": "Malawi",
         "orientation": "v",
         "showlegend": true,
         "type": "scatter",
         "x": [
          2020,
          2021,
          2022,
          2023
         ],
         "xaxis": "x",
         "y": [
          29,
          30,
          33,
          36
         ],
         "yaxis": "y"
        },
        {
         "hovertemplate": "Nation=Maldives<br>Annee=%{x}<br>value=%{y}<extra></extra>",
         "legendgroup": "Maldives",
         "line": {
          "color": "#FFA15A",
          "dash": "solid"
         },
         "marker": {
          "symbol": "circle"
         },
         "mode": "lines",
         "name": "Maldives",
         "orientation": "v",
         "showlegend": true,
         "type": "scatter",
         "x": [
          2020,
          2021,
          2022,
          2023
         ],
         "xaxis": "x",
         "y": [
          27,
          28,
          32,
          32
         ],
         "yaxis": "y"
        },
        {
         "hovertemplate": "Nation=Mali<br>Annee=%{x}<br>value=%{y}<extra></extra>",
         "legendgroup": "Mali",
         "line": {
          "color": "#19d3f3",
          "dash": "solid"
         },
         "marker": {
          "symbol": "circle"
         },
         "mode": "lines",
         "name": "Mali",
         "orientation": "v",
         "showlegend": true,
         "type": "scatter",
         "x": [
          2020,
          2021,
          2022,
          2023
         ],
         "xaxis": "x",
         "y": [
          127,
          137,
          138,
          153
         ],
         "yaxis": "y"
        },
        {
         "hovertemplate": "Nation=Malte<br>Annee=%{x}<br>value=%{y}<extra></extra>",
         "legendgroup": "Malte",
         "line": {
          "color": "#FF6692",
          "dash": "solid"
         },
         "marker": {
          "symbol": "circle"
         },
         "mode": "lines",
         "name": "Malte",
         "orientation": "v",
         "showlegend": true,
         "type": "scatter",
         "x": [
          2020,
          2021,
          2022,
          2023
         ],
         "xaxis": "x",
         "y": [
          191,
          210,
          232,
          259
         ],
         "yaxis": "y"
        },
        {
         "hovertemplate": "Nation=Maroc<br>Annee=%{x}<br>value=%{y}<extra></extra>",
         "legendgroup": "Maroc",
         "line": {
          "color": "#B6E880",
          "dash": "solid"
         },
         "marker": {
          "symbol": "circle"
         },
         "mode": "lines",
         "name": "Maroc",
         "orientation": "v",
         "showlegend": true,
         "type": "scatter",
         "x": [
          2020,
          2021,
          2022,
          2023
         ],
         "xaxis": "x",
         "y": [
          865,
          912,
          924,
          958
         ],
         "yaxis": "y"
        },
        {
         "hovertemplate": "Nation=Maurice<br>Annee=%{x}<br>value=%{y}<extra></extra>",
         "legendgroup": "Maurice",
         "line": {
          "color": "#FF97FF",
          "dash": "solid"
         },
         "marker": {
          "symbol": "circle"
         },
         "mode": "lines",
         "name": "Maurice",
         "orientation": "v",
         "showlegend": true,
         "type": "scatter",
         "x": [
          2020,
          2021,
          2022,
          2023
         ],
         "xaxis": "x",
         "y": [
          287,
          299,
          305,
          299
         ],
         "yaxis": "y"
        },
        {
         "hovertemplate": "Nation=Mauritanie<br>Annee=%{x}<br>value=%{y}<extra></extra>",
         "legendgroup": "Mauritanie",
         "line": {
          "color": "#FECB52",
          "dash": "solid"
         },
         "marker": {
          "symbol": "circle"
         },
         "mode": "lines",
         "name": "Mauritanie",
         "orientation": "v",
         "showlegend": true,
         "type": "scatter",
         "x": [
          2020,
          2021,
          2022,
          2023
         ],
         "xaxis": "x",
         "y": [
          32,
          30,
          33,
          41
         ],
         "yaxis": "y"
        },
        {
         "hovertemplate": "Nation=Mexique<br>Annee=%{x}<br>value=%{y}<extra></extra>",
         "legendgroup": "Mexique",
         "line": {
          "color": "#636efa",
          "dash": "solid"
         },
         "marker": {
          "symbol": "circle"
         },
         "mode": "lines",
         "name": "Mexique",
         "orientation": "v",
         "showlegend": true,
         "type": "scatter",
         "x": [
          2020,
          2021,
          2022,
          2023
         ],
         "xaxis": "x",
         "y": [
          650,
          692,
          715,
          756
         ],
         "yaxis": "y"
        },
        {
         "hovertemplate": "Nation=Moldova<br>Annee=%{x}<br>value=%{y}<extra></extra>",
         "legendgroup": "Moldova",
         "line": {
          "color": "#EF553B",
          "dash": "solid"
         },
         "marker": {
          "symbol": "circle"
         },
         "mode": "lines",
         "name": "Moldova",
         "orientation": "v",
         "showlegend": true,
         "type": "scatter",
         "x": [
          2020,
          2021,
          2022,
          2023
         ],
         "xaxis": "x",
         "y": [
          329,
          356,
          392,
          417
         ],
         "yaxis": "y"
        },
        {
         "hovertemplate": "Nation=Monaco<br>Annee=%{x}<br>value=%{y}<extra></extra>",
         "legendgroup": "Monaco",
         "line": {
          "color": "#00cc96",
          "dash": "solid"
         },
         "marker": {
          "symbol": "circle"
         },
         "mode": "lines",
         "name": "Monaco",
         "orientation": "v",
         "showlegend": true,
         "type": "scatter",
         "x": [
          2020,
          2021,
          2022,
          2023
         ],
         "xaxis": "x",
         "y": [
          11,
          12,
          13,
          11
         ],
         "yaxis": "y"
        },
        {
         "hovertemplate": "Nation=Mongolie<br>Annee=%{x}<br>value=%{y}<extra></extra>",
         "legendgroup": "Mongolie",
         "line": {
          "color": "#ab63fa",
          "dash": "solid"
         },
         "marker": {
          "symbol": "circle"
         },
         "mode": "lines",
         "name": "Mongolie",
         "orientation": "v",
         "showlegend": true,
         "type": "scatter",
         "x": [
          2020,
          2021,
          2022,
          2023
         ],
         "xaxis": "x",
         "y": [
          303,
          341,
          356,
          381
         ],
         "yaxis": "y"
        },
        {
         "hovertemplate": "Nation=Monténégro<br>Annee=%{x}<br>value=%{y}<extra></extra>",
         "legendgroup": "Monténégro",
         "line": {
          "color": "#FFA15A",
          "dash": "solid"
         },
         "marker": {
          "symbol": "circle"
         },
         "mode": "lines",
         "name": "Monténégro",
         "orientation": "v",
         "showlegend": true,
         "type": "scatter",
         "x": [
          2020,
          2021,
          2022,
          2023
         ],
         "xaxis": "x",
         "y": [
          521,
          525,
          537,
          524
         ],
         "yaxis": "y"
        },
        {
         "hovertemplate": "Nation=Mozambique<br>Annee=%{x}<br>value=%{y}<extra></extra>",
         "legendgroup": "Mozambique",
         "line": {
          "color": "#19d3f3",
          "dash": "solid"
         },
         "marker": {
          "symbol": "circle"
         },
         "mode": "lines",
         "name": "Mozambique",
         "orientation": "v",
         "showlegend": true,
         "type": "scatter",
         "x": [
          2020,
          2021,
          2022,
          2023
         ],
         "xaxis": "x",
         "y": [
          57,
          58,
          58,
          67
         ],
         "yaxis": "y"
        },
        {
         "hovertemplate": "Nation=Myanmar<br>Annee=%{x}<br>value=%{y}<extra></extra>",
         "legendgroup": "Myanmar",
         "line": {
          "color": "#FF6692",
          "dash": "solid"
         },
         "marker": {
          "symbol": "circle"
         },
         "mode": "lines",
         "name": "Myanmar",
         "orientation": "v",
         "showlegend": true,
         "type": "scatter",
         "x": [
          2020,
          2021,
          2022,
          2023
         ],
         "xaxis": "x",
         "y": [
          85,
          92,
          110,
          130
         ],
         "yaxis": "y"
        },
        {
         "hovertemplate": "Nation=Namibie<br>Annee=%{x}<br>value=%{y}<extra></extra>",
         "legendgroup": "Namibie",
         "line": {
          "color": "#B6E880",
          "dash": "solid"
         },
         "marker": {
          "symbol": "circle"
         },
         "mode": "lines",
         "name": "Namibie",
         "orientation": "v",
         "showlegend": true,
         "type": "scatter",
         "x": [
          2020,
          2021,
          2022,
          2023
         ],
         "xaxis": "x",
         "y": [
          38,
          38,
          37,
          45
         ],
         "yaxis": "y"
        },
        {
         "hovertemplate": "Nation=Nicaragua<br>Annee=%{x}<br>value=%{y}<extra></extra>",
         "legendgroup": "Nicaragua",
         "line": {
          "color": "#FF97FF",
          "dash": "solid"
         },
         "marker": {
          "symbol": "circle"
         },
         "mode": "lines",
         "name": "Nicaragua",
         "orientation": "v",
         "showlegend": true,
         "type": "scatter",
         "x": [
          2020,
          2021,
          2022,
          2023
         ],
         "xaxis": "x",
         "y": [
          168,
          190,
          186,
          198
         ],
         "yaxis": "y"
        },
        {
         "hovertemplate": "Nation=Niger<br>Annee=%{x}<br>value=%{y}<extra></extra>",
         "legendgroup": "Niger",
         "line": {
          "color": "#FECB52",
          "dash": "solid"
         },
         "marker": {
          "symbol": "circle"
         },
         "mode": "lines",
         "name": "Niger",
         "orientation": "v",
         "showlegend": true,
         "type": "scatter",
         "x": [
          2020,
          2021,
          2022,
          2023
         ],
         "xaxis": "x",
         "y": [
          54,
          56,
          61,
          74
         ],
         "yaxis": "y"
        },
        {
         "hovertemplate": "Nation=Nigéria<br>Annee=%{x}<br>value=%{y}<extra></extra>",
         "legendgroup": "Nigéria",
         "line": {
          "color": "#636efa",
          "dash": "solid"
         },
         "marker": {
          "symbol": "circle"
         },
         "mode": "lines",
         "name": "Nigéria",
         "orientation": "v",
         "showlegend": true,
         "type": "scatter",
         "x": [
          2020,
          2021,
          2022,
          2023
         ],
         "xaxis": "x",
         "y": [
          555,
          561,
          584,
          607
         ],
         "yaxis": "y"
        },
        {
         "hovertemplate": "Nation=Norvège<br>Annee=%{x}<br>value=%{y}<extra></extra>",
         "legendgroup": "Norvège",
         "line": {
          "color": "#EF553B",
          "dash": "solid"
         },
         "marker": {
          "symbol": "circle"
         },
         "mode": "lines",
         "name": "Norvège",
         "orientation": "v",
         "showlegend": true,
         "type": "scatter",
         "x": [
          2020,
          2021,
          2022,
          2023
         ],
         "xaxis": "x",
         "y": [
          474,
          492,
          506,
          522
         ],
         "yaxis": "y"
        },
        {
         "hovertemplate": "Nation=Nouvelle-Zélande<br>Annee=%{x}<br>value=%{y}<extra></extra>",
         "legendgroup": "Nouvelle-Zélande",
         "line": {
          "color": "#00cc96",
          "dash": "solid"
         },
         "marker": {
          "symbol": "circle"
         },
         "mode": "lines",
         "name": "Nouvelle-Zélande",
         "orientation": "v",
         "showlegend": true,
         "type": "scatter",
         "x": [
          2020,
          2021,
          2022,
          2023
         ],
         "xaxis": "x",
         "y": [
          341,
          347,
          353,
          372
         ],
         "yaxis": "y"
        },
        {
         "hovertemplate": "Nation=Népal<br>Annee=%{x}<br>value=%{y}<extra></extra>",
         "legendgroup": "Népal",
         "line": {
          "color": "#ab63fa",
          "dash": "solid"
         },
         "marker": {
          "symbol": "circle"
         },
         "mode": "lines",
         "name": "Népal",
         "orientation": "v",
         "showlegend": true,
         "type": "scatter",
         "x": [
          2020,
          2021,
          2022,
          2023
         ],
         "xaxis": "x",
         "y": [
          236,
          248,
          262,
          277
         ],
         "yaxis": "y"
        },
        {
         "hovertemplate": "Nation=Oman<br>Annee=%{x}<br>value=%{y}<extra></extra>",
         "legendgroup": "Oman",
         "line": {
          "color": "#FFA15A",
          "dash": "solid"
         },
         "marker": {
          "symbol": "circle"
         },
         "mode": "lines",
         "name": "Oman",
         "orientation": "v",
         "showlegend": true,
         "type": "scatter",
         "x": [
          2020,
          2021,
          2022,
          2023
         ],
         "xaxis": "x",
         "y": [
          22,
          20,
          31,
          27
         ],
         "yaxis": "y"
        },
        {
         "hovertemplate": "Nation=Ouganda<br>Annee=%{x}<br>value=%{y}<extra></extra>",
         "legendgroup": "Ouganda",
         "line": {
          "color": "#19d3f3",
          "dash": "solid"
         },
         "marker": {
          "symbol": "circle"
         },
         "mode": "lines",
         "name": "Ouganda",
         "orientation": "v",
         "showlegend": true,
         "type": "scatter",
         "x": [
          2020,
          2021,
          2022,
          2023
         ],
         "xaxis": "x",
         "y": [
          156,
          165,
          173,
          189
         ],
         "yaxis": "y"
        },
        {
         "hovertemplate": "Nation=Ouzbékistan<br>Annee=%{x}<br>value=%{y}<extra></extra>",
         "legendgroup": "Ouzbékistan",
         "line": {
          "color": "#FF6692",
          "dash": "solid"
         },
         "marker": {
          "symbol": "circle"
         },
         "mode": "lines",
         "name": "Ouzbékistan",
         "orientation": "v",
         "showlegend": true,
         "type": "scatter",
         "x": [
          2020,
          2021,
          2022,
          2023
         ],
         "xaxis": "x",
         "y": [
          224,
          226,
          237,
          244
         ],
         "yaxis": "y"
        },
        {
         "hovertemplate": "Nation=Pakistan<br>Annee=%{x}<br>value=%{y}<extra></extra>",
         "legendgroup": "Pakistan",
         "line": {
          "color": "#B6E880",
          "dash": "solid"
         },
         "marker": {
          "symbol": "circle"
         },
         "mode": "lines",
         "name": "Pakistan",
         "orientation": "v",
         "showlegend": true,
         "type": "scatter",
         "x": [
          2020,
          2021,
          2022,
          2023
         ],
         "xaxis": "x",
         "y": [
          623,
          638,
          648,
          665
         ],
         "yaxis": "y"
        },
        {
         "hovertemplate": "Nation=Panama<br>Annee=%{x}<br>value=%{y}<extra></extra>",
         "legendgroup": "Panama",
         "line": {
          "color": "#FF97FF",
          "dash": "solid"
         },
         "marker": {
          "symbol": "circle"
         },
         "mode": "lines",
         "name": "Panama",
         "orientation": "v",
         "showlegend": true,
         "type": "scatter",
         "x": [
          2020,
          2021,
          2022,
          2023
         ],
         "xaxis": "x",
         "y": [
          111,
          110,
          125,
          128
         ],
         "yaxis": "y"
        },
        {
         "hovertemplate": "Nation=Papouasie-Nouvelle-Guinée<br>Annee=%{x}<br>value=%{y}<extra></extra>",
         "legendgroup": "Papouasie-Nouvelle-Guinée",
         "line": {
          "color": "#FECB52",
          "dash": "solid"
         },
         "marker": {
          "symbol": "circle"
         },
         "mode": "lines",
         "name": "Papouasie-Nouvelle-Guinée",
         "orientation": "v",
         "showlegend": true,
         "type": "scatter",
         "x": [
          2020,
          2021,
          2022,
          2023
         ],
         "xaxis": "x",
         "y": [
          10,
          9,
          9,
          7
         ],
         "yaxis": "y"
        },
        {
         "hovertemplate": "Nation=Paraguay<br>Annee=%{x}<br>value=%{y}<extra></extra>",
         "legendgroup": "Paraguay",
         "line": {
          "color": "#636efa",
          "dash": "solid"
         },
         "marker": {
          "symbol": "circle"
         },
         "mode": "lines",
         "name": "Paraguay",
         "orientation": "v",
         "showlegend": true,
         "type": "scatter",
         "x": [
          2020,
          2021,
          2022,
          2023
         ],
         "xaxis": "x",
         "y": [
          234,
          233,
          244,
          255
         ],
         "yaxis": "y"
        },
        {
         "hovertemplate": "Nation=Pays-Bas<br>Annee=%{x}<br>value=%{y}<extra></extra>",
         "legendgroup": "Pays-Bas",
         "line": {
          "color": "#EF553B",
          "dash": "solid"
         },
         "marker": {
          "symbol": "circle"
         },
         "mode": "lines",
         "name": "Pays-Bas",
         "orientation": "v",
         "showlegend": true,
         "type": "scatter",
         "x": [
          2020,
          2021,
          2022,
          2023
         ],
         "xaxis": "x",
         "y": [
          1182,
          1197,
          1212,
          1208
         ],
         "yaxis": "y"
        },
        {
         "hovertemplate": "Nation=Philippines<br>Annee=%{x}<br>value=%{y}<extra></extra>",
         "legendgroup": "Philippines",
         "line": {
          "color": "#00cc96",
          "dash": "solid"
         },
         "marker": {
          "symbol": "circle"
         },
         "mode": "lines",
         "name": "Philippines",
         "orientation": "v",
         "showlegend": true,
         "type": "scatter",
         "x": [
          2020,
          2021,
          2022,
          2023
         ],
         "xaxis": "x",
         "y": [
          838,
          865,
          888,
          898
         ],
         "yaxis": "y"
        },
        {
         "hovertemplate": "Nation=Pologne<br>Annee=%{x}<br>value=%{y}<extra></extra>",
         "legendgroup": "Pologne",
         "line": {
          "color": "#ab63fa",
          "dash": "solid"
         },
         "marker": {
          "symbol": "circle"
         },
         "mode": "lines",
         "name": "Pologne",
         "orientation": "v",
         "showlegend": true,
         "type": "scatter",
         "x": [
          2020,
          2021,
          2022,
          2023
         ],
         "xaxis": "x",
         "y": [
          1336,
          1388,
          1433,
          1467
         ],
         "yaxis": "y"
        },
        {
         "hovertemplate": "Nation=Portugal<br>Annee=%{x}<br>value=%{y}<extra></extra>",
         "legendgroup": "Portugal",
         "line": {
          "color": "#FFA15A",
          "dash": "solid"
         },
         "marker": {
          "symbol": "circle"
         },
         "mode": "lines",
         "name": "Portugal",
         "orientation": "v",
         "showlegend": true,
         "type": "scatter",
         "x": [
          2020,
          2021,
          2022,
          2023
         ],
         "xaxis": "x",
         "y": [
          1845,
          1816,
          1815,
          1869
         ],
         "yaxis": "y"
        },
        {
         "hovertemplate": "Nation=Pérou<br>Annee=%{x}<br>value=%{y}<extra></extra>",
         "legendgroup": "Pérou",
         "line": {
          "color": "#19d3f3",
          "dash": "solid"
         },
         "marker": {
          "symbol": "circle"
         },
         "mode": "lines",
         "name": "Pérou",
         "orientation": "v",
         "showlegend": true,
         "type": "scatter",
         "x": [
          2020,
          2021,
          2022,
          2023
         ],
         "xaxis": "x",
         "y": [
          605,
          661,
          673,
          688
         ],
         "yaxis": "y"
        },
        {
         "hovertemplate": "Nation=Qatar<br>Annee=%{x}<br>value=%{y}<extra></extra>",
         "legendgroup": "Qatar",
         "line": {
          "color": "#FF6692",
          "dash": "solid"
         },
         "marker": {
          "symbol": "circle"
         },
         "mode": "lines",
         "name": "Qatar",
         "orientation": "v",
         "showlegend": true,
         "type": "scatter",
         "x": [
          2020,
          2021,
          2022,
          2023
         ],
         "xaxis": "x",
         "y": [
          10,
          9,
          11,
          8
         ],
         "yaxis": "y"
        },
        {
         "hovertemplate": "Nation=Roumanie<br>Annee=%{x}<br>value=%{y}<extra></extra>",
         "legendgroup": "Roumanie",
         "line": {
          "color": "#B6E880",
          "dash": "solid"
         },
         "marker": {
          "symbol": "circle"
         },
         "mode": "lines",
         "name": "Roumanie",
         "orientation": "v",
         "showlegend": true,
         "type": "scatter",
         "x": [
          2020,
          2021,
          2022,
          2023
         ],
         "xaxis": "x",
         "y": [
          1127,
          1180,
          1230,
          1267
         ],
         "yaxis": "y"
        },
        {
         "hovertemplate": "Nation=Royaume-Uni<br>Annee=%{x}<br>value=%{y}<extra></extra>",
         "legendgroup": "Royaume-Uni",
         "line": {
          "color": "#FF97FF",
          "dash": "solid"
         },
         "marker": {
          "symbol": "circle"
         },
         "mode": "lines",
         "name": "Royaume-Uni",
         "orientation": "v",
         "showlegend": true,
         "type": "scatter",
         "x": [
          2020,
          2021,
          2022,
          2023
         ],
         "xaxis": "x",
         "y": [
          1396,
          1629,
          1737,
          1809
         ],
         "yaxis": "y"
        },
        {
         "hovertemplate": "Nation=Russie<br>Annee=%{x}<br>value=%{y}<extra></extra>",
         "legendgroup": "Russie",
         "line": {
          "color": "#FECB52",
          "dash": "solid"
         },
         "marker": {
          "symbol": "circle"
         },
         "mode": "lines",
         "name": "Russie",
         "orientation": "v",
         "showlegend": true,
         "type": "scatter",
         "x": [
          2020,
          2021,
          2022,
          2023
         ],
         "xaxis": "x",
         "y": [
          1502,
          1530,
          1551,
          1582
         ],
         "yaxis": "y"
        },
        {
         "hovertemplate": "Nation=Rwanda<br>Annee=%{x}<br>value=%{y}<extra></extra>",
         "legendgroup": "Rwanda",
         "line": {
          "color": "#636efa",
          "dash": "solid"
         },
         "marker": {
          "symbol": "circle"
         },
         "mode": "lines",
         "name": "Rwanda",
         "orientation": "v",
         "showlegend": true,
         "type": "scatter",
         "x": [
          2020,
          2021,
          2022,
          2023
         ],
         "xaxis": "x",
         "y": [
          175,
          176,
          178,
          190
         ],
         "yaxis": "y"
        },
        {
         "hovertemplate": "Nation=Rép. centrafricaine<br>Annee=%{x}<br>value=%{y}<extra></extra>",
         "legendgroup": "Rép. centrafricaine",
         "line": {
          "color": "#EF553B",
          "dash": "solid"
         },
         "marker": {
          "symbol": "circle"
         },
         "mode": "lines",
         "name": "Rép. centrafricaine",
         "orientation": "v",
         "showlegend": true,
         "type": "scatter",
         "x": [
          2020,
          2021,
          2022,
          2023
         ],
         "xaxis": "x",
         "y": [
          38,
          38,
          45,
          44
         ],
         "yaxis": "y"
        },
        {
         "hovertemplate": "Nation=République dominicaine<br>Annee=%{x}<br>value=%{y}<extra></extra>",
         "legendgroup": "République dominicaine",
         "line": {
          "color": "#00cc96",
          "dash": "solid"
         },
         "marker": {
          "symbol": "circle"
         },
         "mode": "lines",
         "name": "République dominicaine",
         "orientation": "v",
         "showlegend": true,
         "type": "scatter",
         "x": [
          2020,
          2021,
          2022,
          2023
         ],
         "xaxis": "x",
         "y": [
          928,
          958,
          949,
          954
         ],
         "yaxis": "y"
        },
        {
         "hovertemplate": "Nation=République slovaque<br>Annee=%{x}<br>value=%{y}<extra></extra>",
         "legendgroup": "République slovaque",
         "line": {
          "color": "#ab63fa",
          "dash": "solid"
         },
         "marker": {
          "symbol": "circle"
         },
         "mode": "lines",
         "name": "République slovaque",
         "orientation": "v",
         "showlegend": true,
         "type": "scatter",
         "x": [
          2020,
          2021,
          2022,
          2023
         ],
         "xaxis": "x",
         "y": [
          1029,
          1095,
          1123,
          1159
         ],
         "yaxis": "y"
        },
        {
         "hovertemplate": "Nation=République tchèque<br>Annee=%{x}<br>value=%{y}<extra></extra>",
         "legendgroup": "République tchèque",
         "line": {
          "color": "#FFA15A",
          "dash": "solid"
         },
         "marker": {
          "symbol": "circle"
         },
         "mode": "lines",
         "name": "République tchèque",
         "orientation": "v",
         "showlegend": true,
         "type": "scatter",
         "x": [
          2020,
          2021,
          2022,
          2023
         ],
         "xaxis": "x",
         "y": [
          939,
          969,
          981,
          1022
         ],
         "yaxis": "y"
        },
        {
         "hovertemplate": "Nation=Sahara Occidental<br>Annee=%{x}<br>value=%{y}<extra></extra>",
         "legendgroup": "Sahara Occidental",
         "line": {
          "color": "#19d3f3",
          "dash": "solid"
         },
         "marker": {
          "symbol": "circle"
         },
         "mode": "lines",
         "name": "Sahara Occidental",
         "orientation": "v",
         "showlegend": true,
         "type": "scatter",
         "x": [
          2020,
          2021,
          2022,
          2023
         ],
         "xaxis": "x",
         "y": [
          7,
          5,
          5,
          4
         ],
         "yaxis": "y"
        },
        {
         "hovertemplate": "Nation=Saint-Kitts-et-Nevis<br>Annee=%{x}<br>value=%{y}<extra></extra>",
         "legendgroup": "Saint-Kitts-et-Nevis",
         "line": {
          "color": "#FF6692",
          "dash": "solid"
         },
         "marker": {
          "symbol": "circle"
         },
         "mode": "lines",
         "name": "Saint-Kitts-et-Nevis",
         "orientation": "v",
         "showlegend": true,
         "type": "scatter",
         "x": [
          2020,
          2021,
          2022,
          2023
         ],
         "xaxis": "x",
         "y": [
          40,
          43,
          55,
          61
         ],
         "yaxis": "y"
        },
        {
         "hovertemplate": "Nation=Saint-Marin<br>Annee=%{x}<br>value=%{y}<extra></extra>",
         "legendgroup": "Saint-Marin",
         "line": {
          "color": "#B6E880",
          "dash": "solid"
         },
         "marker": {
          "symbol": "circle"
         },
         "mode": "lines",
         "name": "Saint-Marin",
         "orientation": "v",
         "showlegend": true,
         "type": "scatter",
         "x": [
          2020,
          2021,
          2022,
          2023
         ],
         "xaxis": "x",
         "y": [
          18,
          15,
          14,
          11
         ],
         "yaxis": "y"
        },
        {
         "hovertemplate": "Nation=Sainte-Lucie<br>Annee=%{x}<br>value=%{y}<extra></extra>",
         "legendgroup": "Sainte-Lucie",
         "line": {
          "color": "#FF97FF",
          "dash": "solid"
         },
         "marker": {
          "symbol": "circle"
         },
         "mode": "lines",
         "name": "Sainte-Lucie",
         "orientation": "v",
         "showlegend": true,
         "type": "scatter",
         "x": [
          2020,
          2021,
          2022,
          2023
         ],
         "xaxis": "x",
         "y": [
          18,
          19,
          22,
          23
         ],
         "yaxis": "y"
        },
        {
         "hovertemplate": "Nation=Samoa<br>Annee=%{x}<br>value=%{y}<extra></extra>",
         "legendgroup": "Samoa",
         "line": {
          "color": "#FECB52",
          "dash": "solid"
         },
         "marker": {
          "symbol": "circle"
         },
         "mode": "lines",
         "name": "Samoa",
         "orientation": "v",
         "showlegend": true,
         "type": "scatter",
         "x": [
          2020,
          2021,
          2022,
          2023
         ],
         "xaxis": "x",
         "y": [
          6,
          6,
          6,
          6
         ],
         "yaxis": "y"
        },
        {
         "hovertemplate": "Nation=Sans nationalité<br>Annee=%{x}<br>value=%{y}<extra></extra>",
         "legendgroup": "Sans nationalité",
         "line": {
          "color": "#636efa",
          "dash": "solid"
         },
         "marker": {
          "symbol": "circle"
         },
         "mode": "lines",
         "name": "Sans nationalité",
         "orientation": "v",
         "showlegend": true,
         "type": "scatter",
         "x": [
          2020,
          2021,
          2022,
          2023
         ],
         "xaxis": "x",
         "y": [
          142,
          169,
          169,
          164
         ],
         "yaxis": "y"
        },
        {
         "hovertemplate": "Nation=Sao Tomé-et-Principe<br>Annee=%{x}<br>value=%{y}<extra></extra>",
         "legendgroup": "Sao Tomé-et-Principe",
         "line": {
          "color": "#EF553B",
          "dash": "solid"
         },
         "marker": {
          "symbol": "circle"
         },
         "mode": "lines",
         "name": "Sao Tomé-et-Principe",
         "orientation": "v",
         "showlegend": true,
         "type": "scatter",
         "x": [
          2020,
          2021,
          2022,
          2023
         ],
         "xaxis": "x",
         "y": [
          10,
          9,
          12,
          13
         ],
         "yaxis": "y"
        },
        {
         "hovertemplate": "Nation=Serbie<br>Annee=%{x}<br>value=%{y}<extra></extra>",
         "legendgroup": "Serbie",
         "line": {
          "color": "#00cc96",
          "dash": "solid"
         },
         "marker": {
          "symbol": "circle"
         },
         "mode": "lines",
         "name": "Serbie",
         "orientation": "v",
         "showlegend": true,
         "type": "scatter",
         "x": [
          2020,
          2021,
          2022,
          2023
         ],
         "xaxis": "x",
         "y": [
          1813,
          1808,
          1786,
          1798
         ],
         "yaxis": "y"
        },
        {
         "hovertemplate": "Nation=Seychelles<br>Annee=%{x}<br>value=%{y}<extra></extra>",
         "legendgroup": "Seychelles",
         "line": {
          "color": "#ab63fa",
          "dash": "solid"
         },
         "marker": {
          "symbol": "circle"
         },
         "mode": "lines",
         "name": "Seychelles",
         "orientation": "v",
         "showlegend": true,
         "type": "scatter",
         "x": [
          2020,
          2021,
          2022,
          2023
         ],
         "xaxis": "x",
         "y": [
          45,
          47,
          42,
          42
         ],
         "yaxis": "y"
        },
        {
         "hovertemplate": "Nation=Sierra Leone<br>Annee=%{x}<br>value=%{y}<extra></extra>",
         "legendgroup": "Sierra Leone",
         "line": {
          "color": "#FFA15A",
          "dash": "solid"
         },
         "marker": {
          "symbol": "circle"
         },
         "mode": "lines",
         "name": "Sierra Leone",
         "orientation": "v",
         "showlegend": true,
         "type": "scatter",
         "x": [
          2020,
          2021,
          2022,
          2023
         ],
         "xaxis": "x",
         "y": [
          107,
          108,
          111,
          111
         ],
         "yaxis": "y"
        },
        {
         "hovertemplate": "Nation=Singapour<br>Annee=%{x}<br>value=%{y}<extra></extra>",
         "legendgroup": "Singapour",
         "line": {
          "color": "#19d3f3",
          "dash": "solid"
         },
         "marker": {
          "symbol": "circle"
         },
         "mode": "lines",
         "name": "Singapour",
         "orientation": "v",
         "showlegend": true,
         "type": "scatter",
         "x": [
          2020,
          2021,
          2022,
          2023
         ],
         "xaxis": "x",
         "y": [
          329,
          318,
          350,
          375
         ],
         "yaxis": "y"
        },
        {
         "hovertemplate": "Nation=Slovénie<br>Annee=%{x}<br>value=%{y}<extra></extra>",
         "legendgroup": "Slovénie",
         "line": {
          "color": "#FF6692",
          "dash": "solid"
         },
         "marker": {
          "symbol": "circle"
         },
         "mode": "lines",
         "name": "Slovénie",
         "orientation": "v",
         "showlegend": true,
         "type": "scatter",
         "x": [
          2020,
          2021,
          2022,
          2023
         ],
         "xaxis": "x",
         "y": [
          753,
          821,
          816,
          861
         ],
         "yaxis": "y"
        },
        {
         "hovertemplate": "Nation=Somalie<br>Annee=%{x}<br>value=%{y}<extra></extra>",
         "legendgroup": "Somalie",
         "line": {
          "color": "#B6E880",
          "dash": "solid"
         },
         "marker": {
          "symbol": "circle"
         },
         "mode": "lines",
         "name": "Somalie",
         "orientation": "v",
         "showlegend": true,
         "type": "scatter",
         "x": [
          2020,
          2021,
          2022,
          2023
         ],
         "xaxis": "x",
         "y": [
          764,
          786,
          839,
          854
         ],
         "yaxis": "y"
        },
        {
         "hovertemplate": "Nation=Soudan<br>Annee=%{x}<br>value=%{y}<extra></extra>",
         "legendgroup": "Soudan",
         "line": {
          "color": "#FF97FF",
          "dash": "solid"
         },
         "marker": {
          "symbol": "circle"
         },
         "mode": "lines",
         "name": "Soudan",
         "orientation": "v",
         "showlegend": true,
         "type": "scatter",
         "x": [
          2020,
          2021,
          2022,
          2023
         ],
         "xaxis": "x",
         "y": [
          262,
          334,
          355,
          392
         ],
         "yaxis": "y"
        },
        {
         "hovertemplate": "Nation=Soudan du Sud<br>Annee=%{x}<br>value=%{y}<extra></extra>",
         "legendgroup": "Soudan du Sud",
         "line": {
          "color": "#FECB52",
          "dash": "solid"
         },
         "marker": {
          "symbol": "circle"
         },
         "mode": "lines",
         "name": "Soudan du Sud",
         "orientation": "v",
         "showlegend": true,
         "type": "scatter",
         "x": [
          2020,
          2021,
          2022,
          2023
         ],
         "xaxis": "x",
         "y": [
          10,
          36,
          59,
          63
         ],
         "yaxis": "y"
        },
        {
         "hovertemplate": "Nation=Sri Lanka<br>Annee=%{x}<br>value=%{y}<extra></extra>",
         "legendgroup": "Sri Lanka",
         "line": {
          "color": "#636efa",
          "dash": "solid"
         },
         "marker": {
          "symbol": "circle"
         },
         "mode": "lines",
         "name": "Sri Lanka",
         "orientation": "v",
         "showlegend": true,
         "type": "scatter",
         "x": [
          2020,
          2021,
          2022,
          2023
         ],
         "xaxis": "x",
         "y": [
          1415,
          1448,
          1489,
          1480
         ],
         "yaxis": "y"
        },
        {
         "hovertemplate": "Nation=St-Vincent-et-les-Grenad.<br>Annee=%{x}<br>value=%{y}<extra></extra>",
         "legendgroup": "St-Vincent-et-les-Grenad.",
         "line": {
          "color": "#EF553B",
          "dash": "solid"
         },
         "marker": {
          "symbol": "circle"
         },
         "mode": "lines",
         "name": "St-Vincent-et-les-Grenad.",
         "orientation": "v",
         "showlegend": true,
         "type": "scatter",
         "x": [
          2020,
          2021,
          2022,
          2023
         ],
         "xaxis": "x",
         "y": [
          4,
          3,
          4,
          5
         ],
         "yaxis": "y"
        },
        {
         "hovertemplate": "Nation=Suriname<br>Annee=%{x}<br>value=%{y}<extra></extra>",
         "legendgroup": "Suriname",
         "line": {
          "color": "#00cc96",
          "dash": "solid"
         },
         "marker": {
          "symbol": "circle"
         },
         "mode": "lines",
         "name": "Suriname",
         "orientation": "v",
         "showlegend": true,
         "type": "scatter",
         "x": [
          2020,
          2021,
          2022,
          2023
         ],
         "xaxis": "x",
         "y": [
          6,
          6,
          7,
          7
         ],
         "yaxis": "y"
        },
        {
         "hovertemplate": "Nation=Suède<br>Annee=%{x}<br>value=%{y}<extra></extra>",
         "legendgroup": "Suède",
         "line": {
          "color": "#ab63fa",
          "dash": "solid"
         },
         "marker": {
          "symbol": "circle"
         },
         "mode": "lines",
         "name": "Suède",
         "orientation": "v",
         "showlegend": true,
         "type": "scatter",
         "x": [
          2020,
          2021,
          2022,
          2023
         ],
         "xaxis": "x",
         "y": [
          910,
          929,
          939,
          949
         ],
         "yaxis": "y"
        },
        {
         "hovertemplate": "Nation=Syrie<br>Annee=%{x}<br>value=%{y}<extra></extra>",
         "legendgroup": "Syrie",
         "line": {
          "color": "#FFA15A",
          "dash": "solid"
         },
         "marker": {
          "symbol": "circle"
         },
         "mode": "lines",
         "name": "Syrie",
         "orientation": "v",
         "showlegend": true,
         "type": "scatter",
         "x": [
          2020,
          2021,
          2022,
          2023
         ],
         "xaxis": "x",
         "y": [
          915,
          971,
          1057,
          1133
         ],
         "yaxis": "y"
        },
        {
         "hovertemplate": "Nation=Sénégal<br>Annee=%{x}<br>value=%{y}<extra></extra>",
         "legendgroup": "Sénégal",
         "line": {
          "color": "#19d3f3",
          "dash": "solid"
         },
         "marker": {
          "symbol": "circle"
         },
         "mode": "lines",
         "name": "Sénégal",
         "orientation": "v",
         "showlegend": true,
         "type": "scatter",
         "x": [
          2020,
          2021,
          2022,
          2023
         ],
         "xaxis": "x",
         "y": [
          384,
          401,
          399,
          424
         ],
         "yaxis": "y"
        },
        {
         "hovertemplate": "Nation=Tadjikistan<br>Annee=%{x}<br>value=%{y}<extra></extra>",
         "legendgroup": "Tadjikistan",
         "line": {
          "color": "#FF6692",
          "dash": "solid"
         },
         "marker": {
          "symbol": "circle"
         },
         "mode": "lines",
         "name": "Tadjikistan",
         "orientation": "v",
         "showlegend": true,
         "type": "scatter",
         "x": [
          2020,
          2021,
          2022,
          2023
         ],
         "xaxis": "x",
         "y": [
          48,
          53,
          55,
          63
         ],
         "yaxis": "y"
        },
        {
         "hovertemplate": "Nation=Tanzanie<br>Annee=%{x}<br>value=%{y}<extra></extra>",
         "legendgroup": "Tanzanie",
         "line": {
          "color": "#B6E880",
          "dash": "solid"
         },
         "marker": {
          "symbol": "circle"
         },
         "mode": "lines",
         "name": "Tanzanie",
         "orientation": "v",
         "showlegend": true,
         "type": "scatter",
         "x": [
          2020,
          2021,
          2022,
          2023
         ],
         "xaxis": "x",
         "y": [
          156,
          156,
          170,
          179
         ],
         "yaxis": "y"
        },
        {
         "hovertemplate": "Nation=Taïwan<br>Annee=%{x}<br>value=%{y}<extra></extra>",
         "legendgroup": "Taïwan",
         "line": {
          "color": "#FF97FF",
          "dash": "solid"
         },
         "marker": {
          "symbol": "circle"
         },
         "mode": "lines",
         "name": "Taïwan",
         "orientation": "v",
         "showlegend": true,
         "type": "scatter",
         "x": [
          2020,
          2021,
          2022,
          2023
         ],
         "xaxis": "x",
         "y": [
          267,
          280,
          305,
          328
         ],
         "yaxis": "y"
        },
        {
         "hovertemplate": "Nation=Tchad<br>Annee=%{x}<br>value=%{y}<extra></extra>",
         "legendgroup": "Tchad",
         "line": {
          "color": "#FECB52",
          "dash": "solid"
         },
         "marker": {
          "symbol": "circle"
         },
         "mode": "lines",
         "name": "Tchad",
         "orientation": "v",
         "showlegend": true,
         "type": "scatter",
         "x": [
          2020,
          2021,
          2022,
          2023
         ],
         "xaxis": "x",
         "y": [
          63,
          62,
          58,
          58
         ],
         "yaxis": "y"
        },
        {
         "hovertemplate": "Nation=Thaïlande<br>Annee=%{x}<br>value=%{y}<extra></extra>",
         "legendgroup": "Thaïlande",
         "line": {
          "color": "#636efa",
          "dash": "solid"
         },
         "marker": {
          "symbol": "circle"
         },
         "mode": "lines",
         "name": "Thaïlande",
         "orientation": "v",
         "showlegend": true,
         "type": "scatter",
         "x": [
          2020,
          2021,
          2022,
          2023
         ],
         "xaxis": "x",
         "y": [
          1011,
          1024,
          1051,
          1048
         ],
         "yaxis": "y"
        },
        {
         "hovertemplate": "Nation=Timor-Leste<br>Annee=%{x}<br>value=%{y}<extra></extra>",
         "legendgroup": "Timor-Leste",
         "line": {
          "color": "#EF553B",
          "dash": "solid"
         },
         "marker": {
          "symbol": "circle"
         },
         "mode": "lines",
         "name": "Timor-Leste",
         "orientation": "v",
         "showlegend": true,
         "type": "scatter",
         "x": [
          2020,
          2021,
          2022,
          2023
         ],
         "xaxis": "x",
         "y": [
          2,
          2,
          3,
          2
         ],
         "yaxis": "y"
        },
        {
         "hovertemplate": "Nation=Togo<br>Annee=%{x}<br>value=%{y}<extra></extra>",
         "legendgroup": "Togo",
         "line": {
          "color": "#00cc96",
          "dash": "solid"
         },
         "marker": {
          "symbol": "circle"
         },
         "mode": "lines",
         "name": "Togo",
         "orientation": "v",
         "showlegend": true,
         "type": "scatter",
         "x": [
          2020,
          2021,
          2022,
          2023
         ],
         "xaxis": "x",
         "y": [
          401,
          412,
          414,
          414
         ],
         "yaxis": "y"
        },
        {
         "hovertemplate": "Nation=Tonga<br>Annee=%{x}<br>value=%{y}<extra></extra>",
         "legendgroup": "Tonga",
         "line": {
          "color": "#ab63fa",
          "dash": "solid"
         },
         "marker": {
          "symbol": "circle"
         },
         "mode": "lines",
         "name": "Tonga",
         "orientation": "v",
         "showlegend": true,
         "type": "scatter",
         "x": [
          2020,
          2021,
          2022,
          2023
         ],
         "xaxis": "x",
         "y": [
          1,
          1,
          2,
          2
         ],
         "yaxis": "y"
        },
        {
         "hovertemplate": "Nation=Trinité-et-Tobago<br>Annee=%{x}<br>value=%{y}<extra></extra>",
         "legendgroup": "Trinité-et-Tobago",
         "line": {
          "color": "#FFA15A",
          "dash": "solid"
         },
         "marker": {
          "symbol": "circle"
         },
         "mode": "lines",
         "name": "Trinité-et-Tobago",
         "orientation": "v",
         "showlegend": true,
         "type": "scatter",
         "x": [
          2020,
          2021,
          2022,
          2023
         ],
         "xaxis": "x",
         "y": [
          64,
          69,
          76,
          77
         ],
         "yaxis": "y"
        },
        {
         "hovertemplate": "Nation=Tunisie<br>Annee=%{x}<br>value=%{y}<extra></extra>",
         "legendgroup": "Tunisie",
         "line": {
          "color": "#19d3f3",
          "dash": "solid"
         },
         "marker": {
          "symbol": "circle"
         },
         "mode": "lines",
         "name": "Tunisie",
         "orientation": "v",
         "showlegend": true,
         "type": "scatter",
         "x": [
          2020,
          2021,
          2022,
          2023
         ],
         "xaxis": "x",
         "y": [
          893,
          911,
          939,
          971
         ],
         "yaxis": "y"
        },
        {
         "hovertemplate": "Nation=Turkménistan<br>Annee=%{x}<br>value=%{y}<extra></extra>",
         "legendgroup": "Turkménistan",
         "line": {
          "color": "#FF6692",
          "dash": "solid"
         },
         "marker": {
          "symbol": "circle"
         },
         "mode": "lines",
         "name": "Turkménistan",
         "orientation": "v",
         "showlegend": true,
         "type": "scatter",
         "x": [
          2020,
          2021,
          2022,
          2023
         ],
         "xaxis": "x",
         "y": [
          42,
          39,
          48,
          46
         ],
         "yaxis": "y"
        },
        {
         "hovertemplate": "Nation=Turquie<br>Annee=%{x}<br>value=%{y}<extra></extra>",
         "legendgroup": "Turquie",
         "line": {
          "color": "#B6E880",
          "dash": "solid"
         },
         "marker": {
          "symbol": "circle"
         },
         "mode": "lines",
         "name": "Turquie",
         "orientation": "v",
         "showlegend": true,
         "type": "scatter",
         "x": [
          2020,
          2021,
          2022,
          2023
         ],
         "xaxis": "x",
         "y": [
          1771,
          1781,
          1826,
          1886
         ],
         "yaxis": "y"
        },
        {
         "hovertemplate": "Nation=Ukraine<br>Annee=%{x}<br>value=%{y}<extra></extra>",
         "legendgroup": "Ukraine",
         "line": {
          "color": "#FF97FF",
          "dash": "solid"
         },
         "marker": {
          "symbol": "circle"
         },
         "mode": "lines",
         "name": "Ukraine",
         "orientation": "v",
         "showlegend": true,
         "type": "scatter",
         "x": [
          2020,
          2021,
          2022,
          2023
         ],
         "xaxis": "x",
         "y": [
          1080,
          1122,
          1153,
          1172
         ],
         "yaxis": "y"
        },
        {
         "hovertemplate": "Nation=Uruguay<br>Annee=%{x}<br>value=%{y}<extra></extra>",
         "legendgroup": "Uruguay",
         "line": {
          "color": "#FECB52",
          "dash": "solid"
         },
         "marker": {
          "symbol": "circle"
         },
         "mode": "lines",
         "name": "Uruguay",
         "orientation": "v",
         "showlegend": true,
         "type": "scatter",
         "x": [
          2020,
          2021,
          2022,
          2023
         ],
         "xaxis": "x",
         "y": [
          155,
          161,
          164,
          170
         ],
         "yaxis": "y"
        },
        {
         "hovertemplate": "Nation=Vanuatu<br>Annee=%{x}<br>value=%{y}<extra></extra>",
         "legendgroup": "Vanuatu",
         "line": {
          "color": "#636efa",
          "dash": "solid"
         },
         "marker": {
          "symbol": "circle"
         },
         "mode": "lines",
         "name": "Vanuatu",
         "orientation": "v",
         "showlegend": true,
         "type": "scatter",
         "x": [
          2020,
          2021,
          2022,
          2023
         ],
         "xaxis": "x",
         "y": [
          1,
          null,
          null,
          2
         ],
         "yaxis": "y"
        },
        {
         "hovertemplate": "Nation=Venezuela<br>Annee=%{x}<br>value=%{y}<extra></extra>",
         "legendgroup": "Venezuela",
         "line": {
          "color": "#EF553B",
          "dash": "solid"
         },
         "marker": {
          "symbol": "circle"
         },
         "mode": "lines",
         "name": "Venezuela",
         "orientation": "v",
         "showlegend": true,
         "type": "scatter",
         "x": [
          2020,
          2021,
          2022,
          2023
         ],
         "xaxis": "x",
         "y": [
          446,
          458,
          475,
          509
         ],
         "yaxis": "y"
        },
        {
         "hovertemplate": "Nation=Vietnam<br>Annee=%{x}<br>value=%{y}<extra></extra>",
         "legendgroup": "Vietnam",
         "line": {
          "color": "#00cc96",
          "dash": "solid"
         },
         "marker": {
          "symbol": "circle"
         },
         "mode": "lines",
         "name": "Vietnam",
         "orientation": "v",
         "showlegend": true,
         "type": "scatter",
         "x": [
          2020,
          2021,
          2022,
          2023
         ],
         "xaxis": "x",
         "y": [
          673,
          694,
          705,
          686
         ],
         "yaxis": "y"
        },
        {
         "hovertemplate": "Nation=Yémen<br>Annee=%{x}<br>value=%{y}<extra></extra>",
         "legendgroup": "Yémen",
         "line": {
          "color": "#ab63fa",
          "dash": "solid"
         },
         "marker": {
          "symbol": "circle"
         },
         "mode": "lines",
         "name": "Yémen",
         "orientation": "v",
         "showlegend": true,
         "type": "scatter",
         "x": [
          2020,
          2021,
          2022,
          2023
         ],
         "xaxis": "x",
         "y": [
          198,
          204,
          218,
          231
         ],
         "yaxis": "y"
        },
        {
         "hovertemplate": "Nation=Zambie<br>Annee=%{x}<br>value=%{y}<extra></extra>",
         "legendgroup": "Zambie",
         "line": {
          "color": "#FFA15A",
          "dash": "solid"
         },
         "marker": {
          "symbol": "circle"
         },
         "mode": "lines",
         "name": "Zambie",
         "orientation": "v",
         "showlegend": true,
         "type": "scatter",
         "x": [
          2020,
          2021,
          2022,
          2023
         ],
         "xaxis": "x",
         "y": [
          55,
          60,
          63,
          61
         ],
         "yaxis": "y"
        },
        {
         "hovertemplate": "Nation=Zimbabwe<br>Annee=%{x}<br>value=%{y}<extra></extra>",
         "legendgroup": "Zimbabwe",
         "line": {
          "color": "#19d3f3",
          "dash": "solid"
         },
         "marker": {
          "symbol": "circle"
         },
         "mode": "lines",
         "name": "Zimbabwe",
         "orientation": "v",
         "showlegend": true,
         "type": "scatter",
         "x": [
          2020,
          2021,
          2022,
          2023
         ],
         "xaxis": "x",
         "y": [
          141,
          141,
          139,
          146
         ],
         "yaxis": "y"
        },
        {
         "hovertemplate": "Nation=Égypte<br>Annee=%{x}<br>value=%{y}<extra></extra>",
         "legendgroup": "Égypte",
         "line": {
          "color": "#FF6692",
          "dash": "solid"
         },
         "marker": {
          "symbol": "circle"
         },
         "mode": "lines",
         "name": "Égypte",
         "orientation": "v",
         "showlegend": true,
         "type": "scatter",
         "x": [
          2020,
          2021,
          2022,
          2023
         ],
         "xaxis": "x",
         "y": [
          556,
          568,
          598,
          595
         ],
         "yaxis": "y"
        },
        {
         "hovertemplate": "Nation=Émirats arabes unis<br>Annee=%{x}<br>value=%{y}<extra></extra>",
         "legendgroup": "Émirats arabes unis",
         "line": {
          "color": "#B6E880",
          "dash": "solid"
         },
         "marker": {
          "symbol": "circle"
         },
         "mode": "lines",
         "name": "Émirats arabes unis",
         "orientation": "v",
         "showlegend": true,
         "type": "scatter",
         "x": [
          2020,
          2021,
          2022,
          2023
         ],
         "xaxis": "x",
         "y": [
          16,
          18,
          20,
          27
         ],
         "yaxis": "y"
        },
        {
         "hovertemplate": "Nation=Équateur<br>Annee=%{x}<br>value=%{y}<extra></extra>",
         "legendgroup": "Équateur",
         "line": {
          "color": "#FF97FF",
          "dash": "solid"
         },
         "marker": {
          "symbol": "circle"
         },
         "mode": "lines",
         "name": "Équateur",
         "orientation": "v",
         "showlegend": true,
         "type": "scatter",
         "x": [
          2020,
          2021,
          2022,
          2023
         ],
         "xaxis": "x",
         "y": [
          509,
          532,
          539,
          546
         ],
         "yaxis": "y"
        },
        {
         "hovertemplate": "Nation=Érythrée<br>Annee=%{x}<br>value=%{y}<extra></extra>",
         "legendgroup": "Érythrée",
         "line": {
          "color": "#FECB52",
          "dash": "solid"
         },
         "marker": {
          "symbol": "circle"
         },
         "mode": "lines",
         "name": "Érythrée",
         "orientation": "v",
         "showlegend": true,
         "type": "scatter",
         "x": [
          2020,
          2021,
          2022,
          2023
         ],
         "xaxis": "x",
         "y": [
          1120,
          1160,
          1216,
          1259
         ],
         "yaxis": "y"
        },
        {
         "hovertemplate": "Nation=État inconnu<br>Annee=%{x}<br>value=%{y}<extra></extra>",
         "legendgroup": "État inconnu",
         "line": {
          "color": "#636efa",
          "dash": "solid"
         },
         "marker": {
          "symbol": "circle"
         },
         "mode": "lines",
         "name": "État inconnu",
         "orientation": "v",
         "showlegend": true,
         "type": "scatter",
         "x": [
          2020,
          2021,
          2022,
          2023
         ],
         "xaxis": "x",
         "y": [
          379,
          393,
          391,
          414
         ],
         "yaxis": "y"
        },
        {
         "hovertemplate": "Nation=États-unis d'Amérique<br>Annee=%{x}<br>value=%{y}<extra></extra>",
         "legendgroup": "États-unis d'Amérique",
         "line": {
          "color": "#EF553B",
          "dash": "solid"
         },
         "marker": {
          "symbol": "circle"
         },
         "mode": "lines",
         "name": "États-unis d'Amérique",
         "orientation": "v",
         "showlegend": true,
         "type": "scatter",
         "x": [
          2020,
          2021,
          2022,
          2023
         ],
         "xaxis": "x",
         "y": [
          1642,
          1628,
          1689,
          1733
         ],
         "yaxis": "y"
        },
        {
         "hovertemplate": "Nation=Éthiopie<br>Annee=%{x}<br>value=%{y}<extra></extra>",
         "legendgroup": "Éthiopie",
         "line": {
          "color": "#00cc96",
          "dash": "solid"
         },
         "marker": {
          "symbol": "circle"
         },
         "mode": "lines",
         "name": "Éthiopie",
         "orientation": "v",
         "showlegend": true,
         "type": "scatter",
         "x": [
          2020,
          2021,
          2022,
          2023
         ],
         "xaxis": "x",
         "y": [
          635,
          679,
          698,
          733
         ],
         "yaxis": "y"
        }
       ],
       "layout": {
        "legend": {
         "title": {
          "text": "Nation"
         },
         "tracegroupgap": 0
        },
        "template": {
         "data": {
          "bar": [
           {
            "error_x": {
             "color": "#2a3f5f"
            },
            "error_y": {
             "color": "#2a3f5f"
            },
            "marker": {
             "line": {
              "color": "#E5ECF6",
              "width": 0.5
             },
             "pattern": {
              "fillmode": "overlay",
              "size": 10,
              "solidity": 0.2
             }
            },
            "type": "bar"
           }
          ],
          "barpolar": [
           {
            "marker": {
             "line": {
              "color": "#E5ECF6",
              "width": 0.5
             },
             "pattern": {
              "fillmode": "overlay",
              "size": 10,
              "solidity": 0.2
             }
            },
            "type": "barpolar"
           }
          ],
          "carpet": [
           {
            "aaxis": {
             "endlinecolor": "#2a3f5f",
             "gridcolor": "white",
             "linecolor": "white",
             "minorgridcolor": "white",
             "startlinecolor": "#2a3f5f"
            },
            "baxis": {
             "endlinecolor": "#2a3f5f",
             "gridcolor": "white",
             "linecolor": "white",
             "minorgridcolor": "white",
             "startlinecolor": "#2a3f5f"
            },
            "type": "carpet"
           }
          ],
          "choropleth": [
           {
            "colorbar": {
             "outlinewidth": 0,
             "ticks": ""
            },
            "type": "choropleth"
           }
          ],
          "contour": [
           {
            "colorbar": {
             "outlinewidth": 0,
             "ticks": ""
            },
            "colorscale": [
             [
              0,
              "#0d0887"
             ],
             [
              0.1111111111111111,
              "#46039f"
             ],
             [
              0.2222222222222222,
              "#7201a8"
             ],
             [
              0.3333333333333333,
              "#9c179e"
             ],
             [
              0.4444444444444444,
              "#bd3786"
             ],
             [
              0.5555555555555556,
              "#d8576b"
             ],
             [
              0.6666666666666666,
              "#ed7953"
             ],
             [
              0.7777777777777778,
              "#fb9f3a"
             ],
             [
              0.8888888888888888,
              "#fdca26"
             ],
             [
              1,
              "#f0f921"
             ]
            ],
            "type": "contour"
           }
          ],
          "contourcarpet": [
           {
            "colorbar": {
             "outlinewidth": 0,
             "ticks": ""
            },
            "type": "contourcarpet"
           }
          ],
          "heatmap": [
           {
            "colorbar": {
             "outlinewidth": 0,
             "ticks": ""
            },
            "colorscale": [
             [
              0,
              "#0d0887"
             ],
             [
              0.1111111111111111,
              "#46039f"
             ],
             [
              0.2222222222222222,
              "#7201a8"
             ],
             [
              0.3333333333333333,
              "#9c179e"
             ],
             [
              0.4444444444444444,
              "#bd3786"
             ],
             [
              0.5555555555555556,
              "#d8576b"
             ],
             [
              0.6666666666666666,
              "#ed7953"
             ],
             [
              0.7777777777777778,
              "#fb9f3a"
             ],
             [
              0.8888888888888888,
              "#fdca26"
             ],
             [
              1,
              "#f0f921"
             ]
            ],
            "type": "heatmap"
           }
          ],
          "heatmapgl": [
           {
            "colorbar": {
             "outlinewidth": 0,
             "ticks": ""
            },
            "colorscale": [
             [
              0,
              "#0d0887"
             ],
             [
              0.1111111111111111,
              "#46039f"
             ],
             [
              0.2222222222222222,
              "#7201a8"
             ],
             [
              0.3333333333333333,
              "#9c179e"
             ],
             [
              0.4444444444444444,
              "#bd3786"
             ],
             [
              0.5555555555555556,
              "#d8576b"
             ],
             [
              0.6666666666666666,
              "#ed7953"
             ],
             [
              0.7777777777777778,
              "#fb9f3a"
             ],
             [
              0.8888888888888888,
              "#fdca26"
             ],
             [
              1,
              "#f0f921"
             ]
            ],
            "type": "heatmapgl"
           }
          ],
          "histogram": [
           {
            "marker": {
             "pattern": {
              "fillmode": "overlay",
              "size": 10,
              "solidity": 0.2
             }
            },
            "type": "histogram"
           }
          ],
          "histogram2d": [
           {
            "colorbar": {
             "outlinewidth": 0,
             "ticks": ""
            },
            "colorscale": [
             [
              0,
              "#0d0887"
             ],
             [
              0.1111111111111111,
              "#46039f"
             ],
             [
              0.2222222222222222,
              "#7201a8"
             ],
             [
              0.3333333333333333,
              "#9c179e"
             ],
             [
              0.4444444444444444,
              "#bd3786"
             ],
             [
              0.5555555555555556,
              "#d8576b"
             ],
             [
              0.6666666666666666,
              "#ed7953"
             ],
             [
              0.7777777777777778,
              "#fb9f3a"
             ],
             [
              0.8888888888888888,
              "#fdca26"
             ],
             [
              1,
              "#f0f921"
             ]
            ],
            "type": "histogram2d"
           }
          ],
          "histogram2dcontour": [
           {
            "colorbar": {
             "outlinewidth": 0,
             "ticks": ""
            },
            "colorscale": [
             [
              0,
              "#0d0887"
             ],
             [
              0.1111111111111111,
              "#46039f"
             ],
             [
              0.2222222222222222,
              "#7201a8"
             ],
             [
              0.3333333333333333,
              "#9c179e"
             ],
             [
              0.4444444444444444,
              "#bd3786"
             ],
             [
              0.5555555555555556,
              "#d8576b"
             ],
             [
              0.6666666666666666,
              "#ed7953"
             ],
             [
              0.7777777777777778,
              "#fb9f3a"
             ],
             [
              0.8888888888888888,
              "#fdca26"
             ],
             [
              1,
              "#f0f921"
             ]
            ],
            "type": "histogram2dcontour"
           }
          ],
          "mesh3d": [
           {
            "colorbar": {
             "outlinewidth": 0,
             "ticks": ""
            },
            "type": "mesh3d"
           }
          ],
          "parcoords": [
           {
            "line": {
             "colorbar": {
              "outlinewidth": 0,
              "ticks": ""
             }
            },
            "type": "parcoords"
           }
          ],
          "pie": [
           {
            "automargin": true,
            "type": "pie"
           }
          ],
          "scatter": [
           {
            "fillpattern": {
             "fillmode": "overlay",
             "size": 10,
             "solidity": 0.2
            },
            "type": "scatter"
           }
          ],
          "scatter3d": [
           {
            "line": {
             "colorbar": {
              "outlinewidth": 0,
              "ticks": ""
             }
            },
            "marker": {
             "colorbar": {
              "outlinewidth": 0,
              "ticks": ""
             }
            },
            "type": "scatter3d"
           }
          ],
          "scattercarpet": [
           {
            "marker": {
             "colorbar": {
              "outlinewidth": 0,
              "ticks": ""
             }
            },
            "type": "scattercarpet"
           }
          ],
          "scattergeo": [
           {
            "marker": {
             "colorbar": {
              "outlinewidth": 0,
              "ticks": ""
             }
            },
            "type": "scattergeo"
           }
          ],
          "scattergl": [
           {
            "marker": {
             "colorbar": {
              "outlinewidth": 0,
              "ticks": ""
             }
            },
            "type": "scattergl"
           }
          ],
          "scattermapbox": [
           {
            "marker": {
             "colorbar": {
              "outlinewidth": 0,
              "ticks": ""
             }
            },
            "type": "scattermapbox"
           }
          ],
          "scatterpolar": [
           {
            "marker": {
             "colorbar": {
              "outlinewidth": 0,
              "ticks": ""
             }
            },
            "type": "scatterpolar"
           }
          ],
          "scatterpolargl": [
           {
            "marker": {
             "colorbar": {
              "outlinewidth": 0,
              "ticks": ""
             }
            },
            "type": "scatterpolargl"
           }
          ],
          "scatterternary": [
           {
            "marker": {
             "colorbar": {
              "outlinewidth": 0,
              "ticks": ""
             }
            },
            "type": "scatterternary"
           }
          ],
          "surface": [
           {
            "colorbar": {
             "outlinewidth": 0,
             "ticks": ""
            },
            "colorscale": [
             [
              0,
              "#0d0887"
             ],
             [
              0.1111111111111111,
              "#46039f"
             ],
             [
              0.2222222222222222,
              "#7201a8"
             ],
             [
              0.3333333333333333,
              "#9c179e"
             ],
             [
              0.4444444444444444,
              "#bd3786"
             ],
             [
              0.5555555555555556,
              "#d8576b"
             ],
             [
              0.6666666666666666,
              "#ed7953"
             ],
             [
              0.7777777777777778,
              "#fb9f3a"
             ],
             [
              0.8888888888888888,
              "#fdca26"
             ],
             [
              1,
              "#f0f921"
             ]
            ],
            "type": "surface"
           }
          ],
          "table": [
           {
            "cells": {
             "fill": {
              "color": "#EBF0F8"
             },
             "line": {
              "color": "white"
             }
            },
            "header": {
             "fill": {
              "color": "#C8D4E3"
             },
             "line": {
              "color": "white"
             }
            },
            "type": "table"
           }
          ]
         },
         "layout": {
          "annotationdefaults": {
           "arrowcolor": "#2a3f5f",
           "arrowhead": 0,
           "arrowwidth": 1
          },
          "autotypenumbers": "strict",
          "coloraxis": {
           "colorbar": {
            "outlinewidth": 0,
            "ticks": ""
           }
          },
          "colorscale": {
           "diverging": [
            [
             0,
             "#8e0152"
            ],
            [
             0.1,
             "#c51b7d"
            ],
            [
             0.2,
             "#de77ae"
            ],
            [
             0.3,
             "#f1b6da"
            ],
            [
             0.4,
             "#fde0ef"
            ],
            [
             0.5,
             "#f7f7f7"
            ],
            [
             0.6,
             "#e6f5d0"
            ],
            [
             0.7,
             "#b8e186"
            ],
            [
             0.8,
             "#7fbc41"
            ],
            [
             0.9,
             "#4d9221"
            ],
            [
             1,
             "#276419"
            ]
           ],
           "sequential": [
            [
             0,
             "#0d0887"
            ],
            [
             0.1111111111111111,
             "#46039f"
            ],
            [
             0.2222222222222222,
             "#7201a8"
            ],
            [
             0.3333333333333333,
             "#9c179e"
            ],
            [
             0.4444444444444444,
             "#bd3786"
            ],
            [
             0.5555555555555556,
             "#d8576b"
            ],
            [
             0.6666666666666666,
             "#ed7953"
            ],
            [
             0.7777777777777778,
             "#fb9f3a"
            ],
            [
             0.8888888888888888,
             "#fdca26"
            ],
            [
             1,
             "#f0f921"
            ]
           ],
           "sequentialminus": [
            [
             0,
             "#0d0887"
            ],
            [
             0.1111111111111111,
             "#46039f"
            ],
            [
             0.2222222222222222,
             "#7201a8"
            ],
            [
             0.3333333333333333,
             "#9c179e"
            ],
            [
             0.4444444444444444,
             "#bd3786"
            ],
            [
             0.5555555555555556,
             "#d8576b"
            ],
            [
             0.6666666666666666,
             "#ed7953"
            ],
            [
             0.7777777777777778,
             "#fb9f3a"
            ],
            [
             0.8888888888888888,
             "#fdca26"
            ],
            [
             1,
             "#f0f921"
            ]
           ]
          },
          "colorway": [
           "#636efa",
           "#EF553B",
           "#00cc96",
           "#ab63fa",
           "#FFA15A",
           "#19d3f3",
           "#FF6692",
           "#B6E880",
           "#FF97FF",
           "#FECB52"
          ],
          "font": {
           "color": "#2a3f5f"
          },
          "geo": {
           "bgcolor": "white",
           "lakecolor": "white",
           "landcolor": "#E5ECF6",
           "showlakes": true,
           "showland": true,
           "subunitcolor": "white"
          },
          "hoverlabel": {
           "align": "left"
          },
          "hovermode": "closest",
          "mapbox": {
           "style": "light"
          },
          "paper_bgcolor": "white",
          "plot_bgcolor": "#E5ECF6",
          "polar": {
           "angularaxis": {
            "gridcolor": "white",
            "linecolor": "white",
            "ticks": ""
           },
           "bgcolor": "#E5ECF6",
           "radialaxis": {
            "gridcolor": "white",
            "linecolor": "white",
            "ticks": ""
           }
          },
          "scene": {
           "xaxis": {
            "backgroundcolor": "#E5ECF6",
            "gridcolor": "white",
            "gridwidth": 2,
            "linecolor": "white",
            "showbackground": true,
            "ticks": "",
            "zerolinecolor": "white"
           },
           "yaxis": {
            "backgroundcolor": "#E5ECF6",
            "gridcolor": "white",
            "gridwidth": 2,
            "linecolor": "white",
            "showbackground": true,
            "ticks": "",
            "zerolinecolor": "white"
           },
           "zaxis": {
            "backgroundcolor": "#E5ECF6",
            "gridcolor": "white",
            "gridwidth": 2,
            "linecolor": "white",
            "showbackground": true,
            "ticks": "",
            "zerolinecolor": "white"
           }
          },
          "shapedefaults": {
           "line": {
            "color": "#2a3f5f"
           }
          },
          "ternary": {
           "aaxis": {
            "gridcolor": "white",
            "linecolor": "white",
            "ticks": ""
           },
           "baxis": {
            "gridcolor": "white",
            "linecolor": "white",
            "ticks": ""
           },
           "bgcolor": "#E5ECF6",
           "caxis": {
            "gridcolor": "white",
            "linecolor": "white",
            "ticks": ""
           }
          },
          "title": {
           "x": 0.05
          },
          "xaxis": {
           "automargin": true,
           "gridcolor": "white",
           "linecolor": "white",
           "ticks": "",
           "title": {
            "standoff": 15
           },
           "zerolinecolor": "white",
           "zerolinewidth": 2
          },
          "yaxis": {
           "automargin": true,
           "gridcolor": "white",
           "linecolor": "white",
           "ticks": "",
           "title": {
            "standoff": 15
           },
           "zerolinecolor": "white",
           "zerolinewidth": 2
          }
         }
        },
        "title": {
         "text": "Yearly immigration to Switzerland by country"
        },
        "xaxis": {
         "anchor": "y",
         "domain": [
          0,
          1
         ],
         "tickvals": [
          2020,
          2021,
          2022,
          2023
         ],
         "title": {
          "text": "Annee"
         }
        },
        "yaxis": {
         "anchor": "x",
         "domain": [
          0,
          1
         ],
         "title": {
          "text": "value"
         }
        }
       }
      }
     },
     "metadata": {},
     "output_type": "display_data"
    }
   ],
   "source": [
    "fig = px.line(yearly_imm_by_country, title='Yearly immigration to Switzerland by country')\n",
    "# Modify x-ticks\n",
    "fig.update_xaxes(tickvals=np.arange(2020, 2024, 1))\n",
    "fig.show()"
   ]
  }
 ],
 "metadata": {
  "kernelspec": {
   "display_name": ".venv",
   "language": "python",
   "name": "python3"
  },
  "language_info": {
   "codemirror_mode": {
    "name": "ipython",
    "version": 3
   },
   "file_extension": ".py",
   "mimetype": "text/x-python",
   "name": "python",
   "nbconvert_exporter": "python",
   "pygments_lexer": "ipython3",
   "version": "3.10.7"
  }
 },
 "nbformat": 4,
 "nbformat_minor": 2
}
