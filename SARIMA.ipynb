{
 "cells": [
  {
   "cell_type": "code",
   "execution_count": null,
   "metadata": {},
   "outputs": [],
   "source": [
    "import pandas as pd\n",
    "from statsmodels.tsa.statespace.sarimax import SARIMAX\n",
    "import matplotlib.pyplot as plt\n",
    "\n",
    "# Load your dataset\n",
    "df = pd.read_csv(\"dataset_reformate2.csv\") \n",
    "# Convert 'date' to datetime\n",
    "df['date'] = pd.to_datetime(df['date'])\n",
    "df_country = df[df['pays'] == 'Total Europe']\n",
    "# Set 'date' as index\n",
    "df_country = df_country.set_index('date')\n",
    "# Select the relevant column for SARIMA modeling ('nombre_total' in this case)\n",
    "data = df_country['entree_mensuelle']\n",
    "\n",
    "# Fit the SARIMA model (you'll need to determine the appropriate p, d, q, P, D, Q, s values)\n",
    "# Example: SARIMA(p=1, d=1, q=1, P=1, D=1, Q=1, s=12) \n",
    "model = SARIMAX(data, order=(1, 1, 1), seasonal_order=(1, 1, 1, 12))\n",
    "model_fit = model.fit()\n",
    "\n",
    "# Get predictions and confidence intervals\n",
    "pred = model_fit.get_prediction(start=0, end=len(data) - 1)\n",
    "pred_ci = pred.conf_int()\n",
    "\n",
    "# Plot the data and predictions\n",
    "plt.figure(figsize=(16, 12))\n",
    "plt.plot(data.index, data, label='Actual', color='blue', linewidth=2)\n",
    "plt.plot(pred.predicted_mean.index, pred.predicted_mean, label='Predicted', color='red', linestyle='--')\n",
    "plt.fill_between(pred_ci.index,\n",
    "                 pred_ci.iloc[:, 0],\n",
    "                 pred_ci.iloc[:, 1],\n",
    "                 color='gray',\n",
    "                 alpha=.2, \n",
    "                 label='95% Confidence Interval')\n",
    "\n",
    "plt.title(f'SARIMA Model for nombre_total in your_country')\n",
    "plt.xlabel('Date')\n",
    "plt.ylabel('nombre_total')\n",
    "plt.legend()\n",
    "#plt.ylim(1700000,2100000)\n",
    "plt.grid(alpha=0.3)\n",
    "#plt.xlim(\"2008-03-01\",)\n",
    "plt.show()"
   ]
  }
 ],
 "metadata": {
  "language_info": {
   "name": "python"
  }
 },
 "nbformat": 4,
 "nbformat_minor": 2
}
